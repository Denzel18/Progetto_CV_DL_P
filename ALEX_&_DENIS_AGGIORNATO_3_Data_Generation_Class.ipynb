{
  "nbformat": 4,
  "nbformat_minor": 0,
  "metadata": {
    "accelerator": "TPU",
    "colab": {
      "name": "ALEX & DENIS - AGGIORNATO - 3_Data_Generation_Class.ipynb",
      "provenance": [],
      "collapsed_sections": [
        "4KYm-Fo43P0V",
        "VQsYqmoQVJIu"
      ],
      "include_colab_link": true
    },
    "kernelspec": {
      "display_name": "Python 3",
      "name": "python3"
    },
    "language_info": {
      "name": "python"
    }
  },
  "cells": [
    {
      "cell_type": "markdown",
      "metadata": {
        "id": "view-in-github",
        "colab_type": "text"
      },
      "source": [
        "<a href=\"https://colab.research.google.com/github/Denzel18/Progetto_CV_DL_P/blob/gh-pages/ALEX_%26_DENIS_AGGIORNATO_3_Data_Generation_Class.ipynb\" target=\"_parent\"><img src=\"https://colab.research.google.com/assets/colab-badge.svg\" alt=\"Open In Colab\"/></a>"
      ]
    },
    {
      "cell_type": "markdown",
      "metadata": {
        "id": "l1Fs0GL_mVgn"
      },
      "source": [
        "# DATA GENERATION "
      ]
    },
    {
      "cell_type": "markdown",
      "metadata": {
        "id": "ox6IFmrBfpP-"
      },
      "source": [
        "### IMPORT"
      ]
    },
    {
      "cell_type": "code",
      "metadata": {
        "colab": {
          "base_uri": "https://localhost:8080/",
          "height": 382
        },
        "id": "mwFSXnnkfot7",
        "outputId": "32581012-0f07-4e50-8fdd-1e420f4671b3"
      },
      "source": [
        "import sys\n",
        "import subprocess\n",
        "if 'google.colab' in sys.modules:\n",
        "  subprocess.call(\"pip install -U opencv-python\".split())\n",
        "  #subprocess.call(\"pip install tensorflow==2.0.*\".split())\n",
        "  #subprocess.call(\"pip install keras==2.3.1\".split())\n",
        "  \n",
        "#TensorFlow 2.0 and Keras 2.3.1 frameworks   \n",
        "\n",
        "import pandas as pd\n",
        "import random\n",
        "import os\n",
        "import scipy.ndimage\n",
        "import numpy as np\n",
        "import math\n",
        "import matplotlib.pyplot as plt\n",
        "import tensorflow as tf\n",
        "from tensorflow.keras.preprocessing.image import ImageDataGenerator\n",
        "from tensorflow.keras import backend as K\n",
        "from tensorflow.keras.preprocessing.image import img_to_array, load_img\n",
        "from tensorflow.keras.models import Sequential, Model\n",
        "from tensorflow.keras import optimizers, layers\n",
        "from tensorflow.keras.layers import Activation, Input, Conv2D, ZeroPadding2D, MaxPooling2D, UpSampling2D, concatenate, Flatten, Dense, Dropout\n",
        "from tensorflow.keras.layers import BatchNormalization\n",
        "from tensorflow.keras.optimizers import Adam,SGD,RMSprop\n",
        "from tensorflow.keras.applications.vgg16 import VGG16\n",
        "from tensorflow.keras.utils import to_categorical \n",
        "from PIL import Image, ImageOps\n",
        "from sklearn.utils import shuffle\n",
        "from sklearn.metrics import accuracy_score,classification_report, f1_score, precision_score, recall_score, confusion_matrix\n",
        "from sklearn.metrics import confusion_matrix\n",
        "from google.colab.patches import cv2_imshow\n",
        "\n",
        "from tensorflow.keras.models import Sequence\n",
        "\n",
        "\n",
        "\n",
        "\n",
        "from tensorflow.keras.callbacks import ModelCheckpoint, EarlyStopping\n",
        "\n",
        "import matplotlib.pyplot as plt\n",
        "import cv2\n",
        "from random import randrange\n",
        "random.seed( 30 )\n",
        "\n",
        "print(tf.__version__)\n"
      ],
      "execution_count": 62,
      "outputs": [
        {
          "output_type": "error",
          "ename": "ImportError",
          "evalue": "ignored",
          "traceback": [
            "\u001b[0;31m---------------------------------------------------------------------------\u001b[0m",
            "\u001b[0;31mImportError\u001b[0m                               Traceback (most recent call last)",
            "\u001b[0;32m<ipython-input-62-719f36a05eb0>\u001b[0m in \u001b[0;36m<module>\u001b[0;34m()\u001b[0m\n\u001b[1;32m     32\u001b[0m \u001b[0;32mfrom\u001b[0m \u001b[0mgoogle\u001b[0m\u001b[0;34m.\u001b[0m\u001b[0mcolab\u001b[0m\u001b[0;34m.\u001b[0m\u001b[0mpatches\u001b[0m \u001b[0;32mimport\u001b[0m \u001b[0mcv2_imshow\u001b[0m\u001b[0;34m\u001b[0m\u001b[0;34m\u001b[0m\u001b[0m\n\u001b[1;32m     33\u001b[0m \u001b[0;34m\u001b[0m\u001b[0m\n\u001b[0;32m---> 34\u001b[0;31m \u001b[0;32mfrom\u001b[0m \u001b[0mtensorflow\u001b[0m\u001b[0;34m.\u001b[0m\u001b[0mkeras\u001b[0m\u001b[0;34m.\u001b[0m\u001b[0mmodels\u001b[0m \u001b[0;32mimport\u001b[0m \u001b[0mSequence\u001b[0m\u001b[0;34m\u001b[0m\u001b[0;34m\u001b[0m\u001b[0m\n\u001b[0m\u001b[1;32m     35\u001b[0m \u001b[0;34m\u001b[0m\u001b[0m\n\u001b[1;32m     36\u001b[0m \u001b[0;34m\u001b[0m\u001b[0m\n",
            "\u001b[0;31mImportError\u001b[0m: cannot import name 'Sequence' from 'tensorflow.keras.models' (/usr/local/lib/python3.7/dist-packages/tensorflow/keras/models/__init__.py)",
            "",
            "\u001b[0;31m---------------------------------------------------------------------------\u001b[0;32m\nNOTE: If your import is failing due to a missing package, you can\nmanually install dependencies using either !pip or !apt.\n\nTo view examples of installing some common dependencies, click the\n\"Open Examples\" button below.\n\u001b[0;31m---------------------------------------------------------------------------\u001b[0m\n"
          ]
        }
      ]
    },
    {
      "cell_type": "markdown",
      "metadata": {
        "id": "zUvw3mwvfCMA"
      },
      "source": [
        "### DRIVE "
      ]
    },
    {
      "cell_type": "code",
      "metadata": {
        "colab": {
          "base_uri": "https://localhost:8080/"
        },
        "id": "kkWUwK_IfBtx",
        "outputId": "782a35ed-4578-45f9-b968-7f81ad6840f4"
      },
      "source": [
        "from google.colab import drive\n",
        "drive.mount('/content/drive', force_remount=True)\n",
        "\n",
        "path_drive = '/content/drive/My Drive/'\n",
        "path = path_drive+'ProgettoDL/'\n",
        "\n",
        "os.chdir(path)\n",
        "#from functions import preprocessing \n",
        "#from functions import split_data \n",
        "#from functions import plot_confusion_matrix\n",
        "#from functions import BalancedDataGenerator"
      ],
      "execution_count": 2,
      "outputs": [
        {
          "output_type": "stream",
          "text": [
            "Mounted at /content/drive\n"
          ],
          "name": "stdout"
        }
      ]
    },
    {
      "cell_type": "markdown",
      "metadata": {
        "id": "G4OSrOanfe7I"
      },
      "source": [
        "### DATA GENERATION "
      ]
    },
    {
      "cell_type": "code",
      "metadata": {
        "id": "ScS3q5MmWMJg"
      },
      "source": [
        "class CustomDataGen(tf.keras.utils.Sequence):\n",
        "    def __init__(self, df, X_col, y_col,\n",
        "                 batch_size,\n",
        "                 input_size=(270, 470),\n",
        "                 shuffle=True):\n",
        "        \n",
        "        self.df = df.copy()\n",
        "        self.X_col = X_col\n",
        "        self.y_col = y_col\n",
        "        self.batch_size = batch_size\n",
        "        self.input_size = input_size\n",
        "        self.shuffle = shuffle\n",
        "        \n",
        "        self.n = len(self.df)\n",
        "        self.n_CLASSE_CALCIO = df[y_col['CLASSE']].nunique()\n",
        "        #print( self.n_CLASSE_CALCIO)\n",
        "    \n",
        "    #per modificare il dataset tra le esecuzioni di diverse epoche (QUINDI FORSE NON SERVE)\n",
        "    def on_epoch_end(self):\n",
        "        if self.shuffle:\n",
        "            self.df.sample(frac=1).reset_index(drop=True)\n",
        "    \n",
        "    #la funzione ritornerà un vettore Numpy di forma [target_height, target_width, 3]\n",
        "    def __get_input(self, path, target_size):\n",
        "      try:\n",
        "        first_char = path[0]\n",
        "        if first_char != 'm':\n",
        "          image = tf.keras.preprocessing.image.load_img('/content/drive/MyDrive/CALCIO_CROP/'+path)\n",
        "        else: \n",
        "          image = tf.keras.preprocessing.image.load_img('/content/drive/MyDrive/MASK_CALCIO_CROP/'+path)\n",
        "      except Exception:\n",
        "        print('\\n{}_not found'.format(path))\n",
        "      \n",
        "      image_arr = tf.keras.preprocessing.image.img_to_array(image)\n",
        "      #resize dell'immagine secondo le dimensioni volute di 270*470       \n",
        "      image_arr = tf.image.resize(image_arr,(target_size[0], target_size[1])).numpy()\n",
        "      return image_arr/255.     #perchè di base è tra [0 255] invece deve tornare un valore tra 0 e 1 \n",
        "    \n",
        "    #prende come parametri i valori e il numero di classi e ritorna un vettore Numpy di forma [num_classes,]\n",
        "    def __get_output(self, label, num_classes):\n",
        "        return tf.keras.utils.to_categorical(label, num_classes=num_classes)\n",
        "    \n",
        "    def __get_data(self, batches):\n",
        "        # Generates data containing batch_size samples\n",
        "\n",
        "        path_batch = batches[self.X_col['PATH_IMG']]  \n",
        "      \n",
        "        CLASSE_batch = batches[self.y_col['CLASSE']]\n",
        "        #print('{} - {}'.format(path_batch,CLASSE_batch))\n",
        "\n",
        "        #FORSE QUA SONO LEGGERMENTE DA MODIFICARE\n",
        "        X_batch = np.asarray([self.__get_input(x, self.input_size) for x in path_batch])\n",
        "\n",
        "        y_batch = np.asarray([self.__get_output(y, self.n_CLASSE_CALCIO) for y in CLASSE_batch])\n",
        "        \n",
        "        return X_batch, y_batch\n",
        "    \n",
        "    def __getitem__(self, index):\n",
        "        \n",
        "        batches = self.df[index * self.batch_size:(index + 1) * self.batch_size]\n",
        "        X, y = self.__get_data(batches)        \n",
        "        return X, y                                     #X rappresenta l'input, y rappresenta l'output\n",
        "    \n",
        "    def __len__(self):\n",
        "        return int(self.n) // self.batch_size\n"
      ],
      "execution_count": 3,
      "outputs": []
    },
    {
      "cell_type": "markdown",
      "metadata": {
        "id": "VEgX6Y2118J4"
      },
      "source": [
        "## Maschere\n"
      ]
    },
    {
      "cell_type": "code",
      "metadata": {
        "id": "h3j1iRiJ2E_k"
      },
      "source": [
        "def mask(path):\n",
        "        ######## MASK ############  ---> IN UNA NUOVA COLONNA DEL DATAFRAME RESULT \n",
        "        img = cv2.imread(\"/content/drive/MyDrive/CALCIO_CROP/\"+path, cv2.IMREAD_GRAYSCALE)\n",
        "        _, threshold = cv2.threshold(img, 10, 255, cv2.THRESH_BINARY)\n",
        "        contours, _ = cv2.findContours(threshold, cv2.RETR_TREE, cv2.CHAIN_APPROX_NONE)\n",
        "        #for cnt in contours:\n",
        "        #    cv2.drawContours(img, [cnt], 0, (0))\n",
        "        cv2.imwrite(\"/content/drive/MyDrive/MASK_CALCIO_CROP/mask_\"+path, threshold)"
      ],
      "execution_count": 4,
      "outputs": []
    },
    {
      "cell_type": "markdown",
      "metadata": {
        "id": "Xzh70UKnU-fM"
      },
      "source": [
        "## Immagini "
      ]
    },
    {
      "cell_type": "code",
      "metadata": {
        "id": "TGKxig25WSRO"
      },
      "source": [
        "\n",
        "os.chdir('/content/drive/MyDrive/ProgettoDL/')\n",
        "#from functions import preprocessing, split_data, plot_confusion_matrix, BalancedDataGenerator\n",
        "# ----------------------#-----IMMAGINI----#----------------------# \n",
        "random_state = 3\n",
        "\n",
        "parte = 'CALCIO'\n",
        "tipo = 'CROP' #CROP, CROP_gray_ridge\n",
        "augment = True\n",
        "metaclassi = False\n",
        "cnn = \"vgg16\" #resnet50 \n",
        "\n",
        "#classi = ['1','2','3','3+','4']\n",
        "classi = ['1','2-','2','2+','3-','3','3+','4-','4','4+']\n",
        "\n",
        "immg_rows = 270 \n",
        "immg_cols = 470\n",
        "immgs = '{}_{}'.format(parte,tipo)\n",
        "path_imgs = os.path.join(path_drive+'{}'.format(immgs))\n",
        "\n",
        "#lettura dataset annotazioni\n",
        "csv = pd.read_csv(('/content/drive/MyDrive/ProgettoDL/20201102_ExportDB.txt'), sep=\";\")\n",
        "\n",
        "if 'gray' in tipo:\n",
        "  colormode = \"grayscale\"\n",
        "  print('analisi in scala di grigi')\n",
        "else:\n",
        "  colormode = \"rgb\""
      ],
      "execution_count": 5,
      "outputs": []
    },
    {
      "cell_type": "code",
      "metadata": {
        "colab": {
          "base_uri": "https://localhost:8080/"
        },
        "id": "OYgGNzv9WuV9",
        "outputId": "0541b5d3-4ea5-4b11-ae58-bab1e9e0e0a9"
      },
      "source": [
        "'''NETWORK'''\n",
        "\n",
        "model = Sequential()\n",
        "vgg16_conv = VGG16(include_top=False, weights='imagenet', input_shape=(immg_rows, immg_cols, 3))\n",
        "for layer in vgg16_conv.layers[:-1]:\n",
        "    layer.trainable = False\n",
        "\n",
        "# build top model         \n",
        "x = Flatten(name='flatten')(vgg16_conv.output)\n",
        "x = Dropout(0.5)(x)\n",
        "x = Dense(4096, activation='relu', name='fc1')(x)\n",
        "x = Dense(4096, activation='relu', name='fc2')(x)\n",
        "x = BatchNormalization()(x)\n",
        "x = Dense(len(classi), activation='softmax', name='predictions')(x)\n",
        "# stitch together\n",
        "model = Model(inputs= vgg16_conv.input, outputs=x)\n",
        "\n",
        "\n",
        "# inspect\n",
        "model.summary()"
      ],
      "execution_count": 6,
      "outputs": [
        {
          "output_type": "stream",
          "text": [
            "Downloading data from https://storage.googleapis.com/tensorflow/keras-applications/vgg16/vgg16_weights_tf_dim_ordering_tf_kernels_notop.h5\n",
            "58892288/58889256 [==============================] - 1s 0us/step\n",
            "Model: \"model\"\n",
            "_________________________________________________________________\n",
            "Layer (type)                 Output Shape              Param #   \n",
            "=================================================================\n",
            "input_1 (InputLayer)         [(None, 270, 470, 3)]     0         \n",
            "_________________________________________________________________\n",
            "block1_conv1 (Conv2D)        (None, 270, 470, 64)      1792      \n",
            "_________________________________________________________________\n",
            "block1_conv2 (Conv2D)        (None, 270, 470, 64)      36928     \n",
            "_________________________________________________________________\n",
            "block1_pool (MaxPooling2D)   (None, 135, 235, 64)      0         \n",
            "_________________________________________________________________\n",
            "block2_conv1 (Conv2D)        (None, 135, 235, 128)     73856     \n",
            "_________________________________________________________________\n",
            "block2_conv2 (Conv2D)        (None, 135, 235, 128)     147584    \n",
            "_________________________________________________________________\n",
            "block2_pool (MaxPooling2D)   (None, 67, 117, 128)      0         \n",
            "_________________________________________________________________\n",
            "block3_conv1 (Conv2D)        (None, 67, 117, 256)      295168    \n",
            "_________________________________________________________________\n",
            "block3_conv2 (Conv2D)        (None, 67, 117, 256)      590080    \n",
            "_________________________________________________________________\n",
            "block3_conv3 (Conv2D)        (None, 67, 117, 256)      590080    \n",
            "_________________________________________________________________\n",
            "block3_pool (MaxPooling2D)   (None, 33, 58, 256)       0         \n",
            "_________________________________________________________________\n",
            "block4_conv1 (Conv2D)        (None, 33, 58, 512)       1180160   \n",
            "_________________________________________________________________\n",
            "block4_conv2 (Conv2D)        (None, 33, 58, 512)       2359808   \n",
            "_________________________________________________________________\n",
            "block4_conv3 (Conv2D)        (None, 33, 58, 512)       2359808   \n",
            "_________________________________________________________________\n",
            "block4_pool (MaxPooling2D)   (None, 16, 29, 512)       0         \n",
            "_________________________________________________________________\n",
            "block5_conv1 (Conv2D)        (None, 16, 29, 512)       2359808   \n",
            "_________________________________________________________________\n",
            "block5_conv2 (Conv2D)        (None, 16, 29, 512)       2359808   \n",
            "_________________________________________________________________\n",
            "block5_conv3 (Conv2D)        (None, 16, 29, 512)       2359808   \n",
            "_________________________________________________________________\n",
            "block5_pool (MaxPooling2D)   (None, 8, 14, 512)        0         \n",
            "_________________________________________________________________\n",
            "flatten (Flatten)            (None, 57344)             0         \n",
            "_________________________________________________________________\n",
            "dropout (Dropout)            (None, 57344)             0         \n",
            "_________________________________________________________________\n",
            "fc1 (Dense)                  (None, 4096)              234885120 \n",
            "_________________________________________________________________\n",
            "fc2 (Dense)                  (None, 4096)              16781312  \n",
            "_________________________________________________________________\n",
            "batch_normalization (BatchNo (None, 4096)              16384     \n",
            "_________________________________________________________________\n",
            "predictions (Dense)          (None, 10)                40970     \n",
            "=================================================================\n",
            "Total params: 266,438,474\n",
            "Trainable params: 251,715,594\n",
            "Non-trainable params: 14,722,880\n",
            "_________________________________________________________________\n"
          ],
          "name": "stdout"
        }
      ]
    },
    {
      "cell_type": "code",
      "metadata": {
        "id": "gvAnOHC2W134"
      },
      "source": [
        "'''CALLBACKS'''\n",
        "#NB: create sul drive una cartella weights dove salvare i pesi durante l'allenamento\n",
        "model_checkpoint = ModelCheckpoint( filepath=os.path.join(path+'weights/model_{}_{}/best_weights.h5'.format(immgs,cnn)), monitor='val_loss', verbose=1, save_best_only=True)\n",
        "#early_stopping = EarlyStopping(monitor='val_loss',patience=5,verbose=1)\n",
        "\n",
        "### MODIFICATO QUA - Implementazione Early Stopping###\n",
        "#tf.keras.callbacks.EarlyStopping(patience=2)\n",
        "early_stopping = tf.keras.callbacks.EarlyStopping(\n",
        "    monitor=\"val_loss\", #Quantity to be monitored\n",
        "    min_delta=0, #Minimum change in the monitored quantity to qualify as an improvement\n",
        "    patience=5, #Number of epochs with no improvement after which training will be stopped\n",
        "    #verbosity mode, setting verbose 0, 1 or 2 you just say \n",
        "    #how do you want to 'see' the training progress for each epoch.\n",
        "    #verbose=0 will show you nothing (silent)\n",
        "    #verbose=1 will show you an animated progress bar like this: progres_bar\n",
        "    verbose=0, \n",
        "    #Mode = One of {\"auto\", \"min\", \"max\"}. In min mode, training will stop when the quantity \n",
        "    #monitored has stopped decreasing; in \"max\" mode \n",
        "    #it will stop when the quantity monitored has stopped increasing; \n",
        "    #in \"auto\" mode, the direction is automatically inferred from the name of the monitored quantity.\n",
        "    mode=\"auto\",\n",
        "    #Training will stop if the model doesn't show improvement over the baseline.\n",
        "    baseline=None,\n",
        "    #Whether to restore model weights from the epoch with the best value of the monitored quantity\n",
        "    restore_best_weights=False,\n",
        ")\n",
        "\n",
        "\n",
        "callbacks=[model_checkpoint , early_stopping]"
      ],
      "execution_count": 7,
      "outputs": []
    },
    {
      "cell_type": "code",
      "metadata": {
        "id": "Bbjwj4QwW6yx"
      },
      "source": [
        "#Definizione hyperparameters\n",
        "\n",
        "opt = Adam(learning_rate=0.0001)\n",
        "#opt = SGD(lr=0.0001, decay=1e-5, momentum=0.9)\n",
        "\n",
        "loss='categorical_crossentropy'\n",
        "num_epochs = 1 #era 50\n",
        "bs = 8 #era 8 \n",
        "\n",
        "model.compile(loss=loss, optimizer=opt, metrics = ['accuracy']) "
      ],
      "execution_count": 8,
      "outputs": []
    },
    {
      "cell_type": "markdown",
      "metadata": {
        "id": "4KYm-Fo43P0V"
      },
      "source": [
        "## SPLIT DATA"
      ]
    },
    {
      "cell_type": "code",
      "metadata": {
        "id": "7FXUX8ichKnZ"
      },
      "source": [
        "#-------------------------------------------------------------------------------------------------------------------------------divisione dei dati\n",
        "def split_data(dataframe_result, val_size, test_size, random_state):\n",
        "#data = vettore di immagini rappresentate da matrici numeriche a 3 colonne - dovrebbe diventare una data frame \n",
        "#label = vettore da 3 colonne con componenti viste in funzione preprocessing sopra\n",
        "#val_size = 0.2 scelta nel codice\n",
        "#test_size = 0.2 scelta nel codice\n",
        "#random_state = 3 (parametro impostato nel codice)\n",
        "\n",
        "  #unique_result = dataframe_result.nunique(axis=1) #ID - Colonna 0\n",
        "  unique_result, counts = np.unique(dataframe_result['ID'], return_counts=True)\n",
        "  #print('Counts')\n",
        "  #print(counts)\n",
        "  #print('Sto stampando...')\n",
        "  #print(unique_result)\n",
        "  \n",
        "  \n",
        "  \n",
        "  #id_perm = unique_result.iloc[np.random.permutation(unique_result.index)].reset_index(drop=True)\n",
        "  id_perm = np.random.RandomState(random_state).permutation(unique_result)\n",
        "  #print('ID Perm : {}'.format(id_perm))\n",
        "  test_size = int(test_size*len(id_perm))   \n",
        "  #print('Test Size : {}'.format(test_size))                            \n",
        "  val_size = int(val_size*len(id_perm))   \n",
        "  #print('Val Size : {}'.format(val_size)) \n",
        "\n",
        "\n",
        "  #SPLIT INTO DATAFRAME \n",
        "  test_id = id_perm[:test_size]                                         #tutti gli elementi fino al numero che corrisponde a 'test_size' del vettore id_perm che avevo permutato sopra\n",
        "  val_id = id_perm[test_size:(test_size+val_size)]                      #tutti gli elementi da indice 'test_size' fino alla somma di quelli scritti\n",
        "  train_id = id_perm[(test_size+val_size):]                             #tutti gli elementi da indice indicato, fino alla fine\n",
        "  #print('TEST ID : {}'.format(test_id))  \n",
        "  #print('VAL ID : {}'.format(val_id))  \n",
        "  #print('TRAIN ID : {}'.format(train_id))                    \n",
        "                    \n",
        "\n",
        "  #definisco i dataframe finali \n",
        "  column_names = ['ID','filename', 'class']\n",
        "  x_train = pd.DataFrame(columns = column_names)\n",
        "\n",
        "  x_test = pd.DataFrame(columns = column_names)\n",
        "\n",
        "  x_val = pd.DataFrame(columns = column_names)\n",
        "\n",
        "#vado a ricavare tutte le righe per ogni sub-set basandomi sugli indici che ne devono far parte\n",
        "  for i in test_id:                                                     \n",
        "    result_ID = dataframe_result.loc[(dataframe_result['ID'] == i)]\n",
        "    #print(type(result_ID))\n",
        "    #print('Size : {} '.format(result_ID[result_ID.columns[0]].count()))\n",
        "    row_1=result_ID.iloc[0]\n",
        "    row_2=result_ID.iloc[1]\n",
        "    #print('Prima Riga : {} Type : {}'.format(row_1, type(row_1)))\n",
        "    #print('Seconda Riga : {} Type : {}'.format(row_2, type(row_2)))\n",
        "    x_test=x_test.append(row_1, ignore_index=True) \n",
        "    x_test=x_test.append(row_2, ignore_index=True)\n",
        "  \n",
        "  for i in val_id:                                                     \n",
        "    result_ID = dataframe_result.loc[(dataframe_result['ID'] == i)]\n",
        "    #print(type(result_ID))\n",
        "    #print('Size : {} '.format(result_ID[result_ID.columns[0]].count()))\n",
        "    row_1=result_ID.iloc[0]\n",
        "    row_2=result_ID.iloc[1]\n",
        "    #print('Prima Riga : {} Type : {}'.format(row_1, type(row_1)))\n",
        "    #print('Seconda Riga : {} Type : {}'.format(row_2, type(row_2)))\n",
        "    x_val=x_val.append(row_1, ignore_index=True) \n",
        "    x_val=x_val.append(row_2, ignore_index=True)\n",
        "  \n",
        "  for i in train_id:                                                     \n",
        "    result_ID = dataframe_result.loc[(dataframe_result['ID'] == i)]\n",
        "    #print(type(result_ID))\n",
        "    #print('Size : {} '.format(result_ID[result_ID.columns[0]].count()))\n",
        "    row_1=result_ID.iloc[0]\n",
        "    row_2=result_ID.iloc[1]\n",
        "    #print('Prima Riga : {} Type : {}'.format(row_1, type(row_1)))\n",
        "    #print('Seconda Riga : {} Type : {}'.format(row_2, type(row_2)))\n",
        "    x_train=x_train.append(row_1, ignore_index=True) \n",
        "    x_train=x_train.append(row_2, ignore_index=True)\n",
        "    \n",
        "  return x_train, x_test, x_val\n",
        "\n",
        "\n"
      ],
      "execution_count": 9,
      "outputs": []
    },
    {
      "cell_type": "markdown",
      "metadata": {
        "id": "VQsYqmoQVJIu"
      },
      "source": [
        "## PREPROCESSING & DATA FRAME "
      ]
    },
    {
      "cell_type": "code",
      "metadata": {
        "colab": {
          "base_uri": "https://localhost:8080/"
        },
        "id": "kCvpWRyju3cE",
        "outputId": "0881cc94-6b6f-4b86-ea5f-2c77409d8722"
      },
      "source": [
        "import numpy as np\n",
        "from keras.models import Sequential\n",
        "import numpy as np\n",
        "from sklearn.model_selection import train_test_split\n",
        "import os\n",
        "import pandas as pd\n",
        "\n",
        "os.chdir('/content/drive/MyDrive/ProgettoDL')\n",
        "path = os.getcwd()\n",
        "\n",
        "col_list_sx = [\"ID\",\"IMG_LATOSX\", \"CLASSE_CALCIOSX\"]\n",
        "dataframe_sx = pd.read_csv(os.path.join(path + '/20201102_ExportDB.txt'), usecols=col_list_sx, sep=\";\")\n",
        "\n",
        "\n",
        "col_list_dx = [\"ID\", \"IMG_LATODX\", \"CLASSE_CALCIODX\"]\n",
        "dataframe_dx = pd.read_csv(os.path.join(path + '/20201102_ExportDB.txt'), usecols=col_list_dx, sep=\";\")\n",
        "\n",
        "\n",
        "dataframe_sx.columns = ['ID','filename', 'class']\n",
        "dataframe_dx.columns = ['ID','filename', 'class']\n",
        "\n",
        "#print(dataframe_sx.columns)                 #stampo i due elementi con stesso ID (lato dx e sx di stesso CALCIO)\n",
        "frames = [dataframe_sx, dataframe_dx]\n",
        "result = pd.concat(frames)\n",
        "print(result)\n",
        "print(result.loc[[1]])\n",
        "print(type(result.loc[[1]]))\n",
        "\n",
        "print(\"Lunghezza DataFrame complessivo : {} \".format(result[result.columns[0]].count()))\n",
        "\n",
        "#MAPPING \n",
        "result[\"class\"] = result[\"class\"].map({'1': int(0), '2-': int(1), '2': int(2), '2+': int(3), '3-': int(4), '3': int(5), '3+': int(6), '4-': int(7), '4': int(8), '4+': int(9)})\n",
        "#result[\"class\"] = result[\"class\"].map({'1': 0, '2-': 1, '2': 2, '2+': 3, '3-': 4, '3': 5 ,'3+': 6, '4-': 7, '4': 8, '4+': 9})\n",
        "\n",
        "#IDENTIFICAZIONE VALORI NULL \n",
        "print(\"Null VALUE di class : \"+format(result['class'].isnull().sum()))\n",
        "print(result.loc[result['class'] == '0'])\n",
        "print(result[result['class'].isnull()])\n",
        "result['class'] = pd.to_numeric(result['class'], errors='coerce')\n",
        "print(result[result['class'].isnull()])\n",
        "result = result.dropna(subset=['class'])    #rimuovo le righe con elementi nulli\n",
        "print(result[result['class'].isnull()])\n",
        "\n",
        "print(\"Null VALUE di class : \"+format(result['class'].isnull().sum()))\n",
        "\n",
        "#IMMG EXIST ?  (cerco se qualche path non esiste e lo elimino dal dataframe) e se esiste ne faccio la MASCHERA\n",
        "import os.path\n",
        "from os import path\n",
        "os.chdir('/content/drive/MyDrive/CALCIO_CROP')\n",
        "for index, row in result.iterrows():\n",
        "    filename = row['filename']\n",
        "    if(os.path.exists(filename) == False):\n",
        "      result = result.drop(result[(result['filename'] == filename)].index)\n",
        "      print('File : {} eliminato'.format(filename))\n",
        "    #else:\n",
        "    #  mask(filename)                                                            #QUESTA RIGA SALVA IN MEMORIA TUTTE LE MASCHERE QUINDI COMMENTALA SE GIA' USATA (PERCHE' IMPIEGA MOLTO TEMPO)                   \n",
        "\n",
        "\n",
        "#----------------------------------------------------------------inserisco nel dataframe una nuova colonna, con le immagini trasformate in array----------------------------------\n",
        "# dsize\n",
        "immg_rows = 270 \n",
        "immg_cols = 470\n",
        "dim = (immg_rows, immg_cols)\n",
        "\n",
        "\n",
        "mask_filenames = []\n",
        "IDs = []\n",
        "classes = []\n",
        "for index, row in result.iterrows():\n",
        "    filename = row['filename']\n",
        "    mask_filenames.append(str(\"mask_\"+filename))\n",
        "    IDs.append(row['ID'])\n",
        "    classes.append(row['class'])\n",
        "    \n",
        "\n",
        "#CARICO LE IMMAGINI E LE TRASFORMO IN ARRAY\n",
        "#    try:                                                                    # provo ad aprire l'immagine, altrimenti dico a video che non l'ho trovata    \n",
        "#        image = load_img(\"/content/drive/MyDrive/MASK_CALCIO_CROP/mask_\"+filename)\n",
        "#\n",
        "#    except Exception:\n",
        "#        print('{}_not found'.format(filename))\n",
        "#        continue\n",
        "#    imgs_array = []\n",
        "#    x = img_to_array(image)\n",
        "#    x = np.asarray(np.dstack((x, x, x)), dtype=np.uint8)\n",
        "#    imgs_array.append(x) \n",
        "   \n",
        "   \n",
        "print(mask_filenames)\n",
        "\n",
        "print(\"------------------------------------------------------------------------------------------------------------------------------------------------------------\")\n",
        "print(\"DATAFRAME CON MASCHERE\")\n",
        "#----------------------------------------------------------------------------------------------------------------------------------------------------------------------------------------------------------------\n",
        "result2 = result.copy()\n",
        "result2['mask_filename'] = mask_filenames\n",
        "result2.drop('filename',\n",
        "  axis='columns', inplace=True)\n",
        "\n",
        "column_names = [\"ID\", \"mask_filename\", \"class\"]\n",
        "\n",
        "result2 = result2.reindex(columns=column_names)\n",
        "print(result2)\n",
        "print(\"------------------------------------------------------------------------------------------------------------------------------------------------------------\")\n",
        "\n",
        "\n",
        "train, test, validation  = split_data(result, 0.2, 0.2, 3)\n",
        "train_mask, test_mask, validation_mask  = split_data(result2, 0.2, 0.2, 3)\n",
        "\n",
        "os.chdir('/content/drive/MyDrive/ProgettoDL')\n",
        "train.to_csv(\"train_1.csv\")\n",
        "test.to_csv(\"test_1.csv\")\n",
        "validation.to_csv(\"validation_1.csv\")\n",
        "\n",
        "\n",
        "print(\"Lunghezza DataFrame complessivo : {}\".format(result[result.columns[0]].count()))\n",
        "print(\"Lunghezza Train : \"+format(len(train)))\n",
        "print(\"Lunghezza Test : \"+format(len(test)))\n",
        "print(\"Lunghezza Validation : \"+format(len(validation)))"
      ],
      "execution_count": 24,
      "outputs": [
        {
          "output_type": "stream",
          "text": [
            "        ID            filename class\n",
            "0        3  20201 319 5323.png    3+\n",
            "1        4  20201 3110125 .png    3+\n",
            "2        5  20201 31101327.png    3+\n",
            "3        6  20201 3110161 .png    3+\n",
            "4        7  20201 3110177 .png    3+\n",
            "...    ...                 ...   ...\n",
            "1059  2023  20201031090549.png    3+\n",
            "1060  2024  20201031090855.png    3+\n",
            "1061  2025  20201031091127.png    3+\n",
            "1062  2026  20201031091720.png    3+\n",
            "1063  2027  20201031091941.png    3+\n",
            "\n",
            "[2128 rows x 3 columns]\n",
            "   ID            filename class\n",
            "1   4  20201 3110125 .png    3+\n",
            "1   4  20201 31101226.png    3+\n",
            "<class 'pandas.core.frame.DataFrame'>\n",
            "Lunghezza DataFrame complessivo : 2128 \n",
            "Null VALUE di class : 2\n",
            "Empty DataFrame\n",
            "Columns: [ID, filename, class]\n",
            "Index: []\n",
            "       ID            filename  class\n",
            "963  1927  20200825181909.png    NaN\n",
            "963  1927  20200825181932.png    NaN\n",
            "       ID            filename  class\n",
            "963  1927  20200825181909.png    NaN\n",
            "963  1927  20200825181932.png    NaN\n",
            "Empty DataFrame\n",
            "Columns: [ID, filename, class]\n",
            "Index: []\n",
            "Null VALUE di class : 0\n",
            "File : 20202 13101023.png eliminato\n",
            "File : 20200825180901.png eliminato\n",
            "File : 20200825181058.png eliminato\n",
            "File : 20202 13101011.png eliminato\n",
            "File : 20200825180918.png eliminato\n",
            "['mask_20201 319 5323.png', 'mask_20201 3110125 .png', 'mask_20201 31101327.png', 'mask_20201 3110161 .png', 'mask_20201 3110177 .png', 'mask_20201 31101831.png', 'mask_20201 31102016.png', 'mask_20201 31102259.png', 'mask_20201 31102456.png', 'mask_20201 3110267 .png', 'mask_20201 31102713.png', 'mask_20201 31102838.png', 'mask_20201 31104111.png', 'mask_20201 31104226.png', 'mask_20201 31104625.png', 'mask_20201 31104738.png', 'mask_20201 31104912.png', 'mask_20201 31105146.png', 'mask_20201 3110533 .png', 'mask_20201 31105423.png', 'mask_20201 31105529.png', 'mask_20201 31105916.png', 'mask_20201 31110 17.png', 'mask_20201 31111 28.png', 'mask_20201 31111730.png', 'mask_20201 31111828.png', 'mask_20201 31111928.png', 'mask_20201 31112231.png', 'mask_20201 31112424.png', 'mask_20201 3111268 .png', 'mask_20201 31112720.png', 'mask_20201 31112826.png', 'mask_20201 31112924.png', 'mask_20201 31113022.png', 'mask_20201 31113140.png', 'mask_20201 31113331.png', 'mask_20201 31125548.png', 'mask_20201 3112571 .png', 'mask_20201 31125816.png', 'mask_20201 31125916.png', 'mask_20201 31130 11.png', 'mask_20201 31134720.png', 'mask_20201 31134826.png', 'mask_20201 31134925.png', 'mask_20201 31135133.png', 'mask_20201 31135255.png', 'mask_20201 31135350.png', 'mask_20201 31135449.png', 'mask_20201 31141739.png', 'mask_20201 31141846.png', 'mask_20201 31141955.png', 'mask_20201 3114216 .png', 'mask_20201 31142221.png', 'mask_20201 31154 53.png', 'mask_20201 31155 47.png', 'mask_20201 31156 39.png', 'mask_20201 31157 33.png', 'mask_20201 31159 9 .png', 'mask_20201 3115116 .png', 'mask_20201 31151923.png', 'mask_20202 10125358.png', 'mask_20202 10125515.png', 'mask_20202 10125629.png', 'mask_20202 10125716.png', 'mask_20202 1012587 .png', 'mask_20202 10125943.png', 'mask_20202 10130 42.png', 'mask_20202 10131 38.png', 'mask_20202 10135741.png', 'mask_20202 10135854.png', 'mask_20202 10140 7 .png', 'mask_20202 10141 4 .png', 'mask_20202 10142 13.png', 'mask_20202 10143 14.png', 'mask_20202 10144 5 .png', 'mask_20202 10145 4 .png', 'mask_20202 10146 4 .png', 'mask_20202 10146 52.png', 'mask_20202 10141335.png', 'mask_20202 10141446.png', 'mask_20202 10141550.png', 'mask_20202 10141646.png', 'mask_20202 10141744.png', 'mask_20202 10141853.png', 'mask_20202 1014202 .png', 'mask_20202 1014217 .png', 'mask_20202 1014224 .png', 'mask_20202 10142332.png', 'mask_20202 10143336.png', 'mask_20202 10143454.png', 'mask_20202 10144049.png', 'mask_20202 10144148.png', 'mask_20202 1014573 .png', 'mask_20202 1014589 .png', 'mask_20202 10145914.png', 'mask_20202 10150 9 .png', 'mask_20202 10151 21.png', 'mask_20202 10151153.png', 'mask_20202 10151255.png', 'mask_20202 1015145 .png', 'mask_20202 10151459.png', 'mask_20202 10151552.png', 'mask_20202 10151646.png', 'mask_20202 10151737.png', 'mask_20202 10152451.png', 'mask_20202 10152541.png', 'mask_20202 1015274 .png', 'mask_20202 10152858.png', 'mask_20202 10164 28.png', 'mask_20202 10165 20.png', 'mask_20202 10166 15.png', 'mask_20202 10167 16.png', 'mask_20202 10168 36.png', 'mask_20202 10169 45.png', 'mask_20202 10161041.png', 'mask_20202 10161138.png', 'mask_20202 118 3723.png', 'mask_20202 118 3811.png', 'mask_20202 118 3859.png', 'mask_20202 118 3952.png', 'mask_20202 118 4057.png', 'mask_20202 118 4153.png', 'mask_20202 118 4612.png', 'mask_20202 118 4715.png', 'mask_20202 118 4819.png', 'mask_20202 118 4911.png', 'mask_20202 118 5011.png', 'mask_20202 118 5119.png', 'mask_20202 118 5521.png', 'mask_20202 118 5635.png', 'mask_20202 118 5724.png', 'mask_20202 118 5813.png', 'mask_20202 118 596 .png', 'mask_20202 119 0 18.png', 'mask_20202 119 1 20.png', 'mask_20202 119 2 40.png', 'mask_20202 119 3 28.png', 'mask_20202 119 4 34.png', 'mask_20202 119 5 35.png', 'mask_20202 119 6 21.png', 'mask_20202 119 2539.png', 'mask_20202 119 2644.png', 'mask_20202 119 2740.png', 'mask_20202 119 2826.png', 'mask_20202 119 2915.png', 'mask_20202 119 302 .png', 'mask_20202 119 3112.png', 'mask_20202 119 3251.png', 'mask_20202 119 3340.png', 'mask_20202 119 3449.png', 'mask_20202 119 4430.png', 'mask_20202 119 4524.png', 'mask_20202 119 4622.png', 'mask_20202 119 4714.png', 'mask_20202 119 4822.png', 'mask_20202 119 4921.png', 'mask_20202 119 5032.png', 'mask_20202 119 5125.png', 'mask_20202 119 5218.png', 'mask_20202 119 5315.png', 'mask_20202 119 548 .png', 'mask_20202 138 4535.png', 'mask_20202 138 4643.png', 'mask_20202 138 4752.png', 'mask_20202 138 4846.png', 'mask_20202 138 4949.png', 'mask_20202 138 5051.png', 'mask_20202 138 5151.png', 'mask_20202 138 5249.png', 'mask_20202 138 5345.png', 'mask_20202 138 5448.png', 'mask_20202 138 560 .png', 'mask_20202 138 5658.png', 'mask_20202 139 2 24.png', 'mask_20202 139 3 17.png', 'mask_20202 139 4 17.png', 'mask_20202 139 6 11.png', 'mask_20202 139 7 30.png', 'mask_20202 139 8 24.png', 'mask_20202 139 9 11.png', 'mask_20202 139 109 .png', 'mask_20202 139 113 .png', 'mask_20202 139 1155.png', 'mask_20202 139 1242.png', 'mask_20202 139 1539.png', 'mask_20202 139 1658.png', 'mask_20202 139 4025.png', 'mask_20202 139 4138.png', 'mask_20202 139 4237.png', 'mask_20202 139 4342.png', 'mask_20202 139 4823.png', 'mask_20202 139 4941.png', 'mask_20202 139 5117.png', 'mask_20202 139 5229.png', 'mask_20202 139 5334.png', 'mask_20202 139 5434.png', 'mask_20202 139 5547.png', 'mask_20202 139 5715.png', 'mask_20202 13107 0 .png', 'mask_20202 13108 12.png', 'mask_20202 13109 31.png', 'mask_20202 13102253.png', 'mask_20202 13102358.png', 'mask_20202 1310257 .png', 'mask_20202 14102027.png', 'mask_20202 14102120.png', 'mask_20202 14102220.png', 'mask_20202 14102316.png', 'mask_20202 1410247 .png', 'mask_20202 1410254 .png', 'mask_20202 14102550.png', 'mask_20202 14102837.png', 'mask_20202 14102944.png', 'mask_20202 14103043.png', 'mask_20202 14103238.png', 'mask_20202 14103347.png', 'mask_20202 14103934.png', 'mask_20202 14104047.png', 'mask_20202 1410438 .png', 'mask_20202 14104617.png', 'mask_20202 14104742.png', 'mask_20202 14104850.png', 'mask_20202 1410508 .png', 'mask_20202 14105235.png', 'mask_20202 14105330.png', 'mask_20202 1410552 .png', 'mask_20202 14105741.png', 'mask_20202 14105851.png', 'mask_20202 14112330.png', 'mask_20202 14112423.png', 'mask_20202 14112515.png', 'mask_20202 1411261 .png', 'mask_20202 14112648.png', 'mask_20202 14112736.png', 'mask_20202 14112829.png', 'mask_20202 14112918.png', 'mask_20202 14113018.png', 'mask_20202 14113140.png', 'mask_20202 14113241.png', 'mask_20202 14113338.png', 'mask_20202 14113956.png', 'mask_20202 1411412 .png', 'mask_20202 14114215.png', 'mask_20202 14114432.png', 'mask_20202 14114633.png', 'mask_20202 14114735.png', 'mask_20202 14114939.png', 'mask_20202 14115046.png', 'mask_20202 14115230.png', 'mask_20202 14115549.png', 'mask_20202 14115716.png', 'mask_20202 14115821.png', 'mask_20202 1412211 .png', 'mask_20202 1412226 .png', 'mask_20202 14122417.png', 'mask_20202 1412262 .png', 'mask_20202 14122753.png', 'mask_20202 14123159.png', 'mask_20202 14123256.png', 'mask_20202 14123345.png', 'mask_20202 14123442.png', 'mask_20202 2716374 .png', 'mask_20202 2716393 .png', 'mask_20202 2716403 .png', 'mask_20202 2716417 .png', 'mask_20202 2716421 .png', 'mask_20202 27164248.png', 'mask_20202 27164346.png', 'mask_20202 27164454.png', 'mask_20202 27164559.png', 'mask_20202 27164714.png', 'mask_20202 27164814.png', 'mask_20202 2716493 .png', 'mask_20202 2910135 .png', 'mask_20202 29101425.png', 'mask_20202 29101520.png', 'mask_20202 29101622.png', 'mask_20202 29101721.png', 'mask_20202 2910188 .png', 'mask_20202 2910191 .png', 'mask_20202 2910201 .png', 'mask_20202 29102048.png', 'mask_20202 29102213.png', 'mask_20202 2910237 .png', 'mask_20202 2910242 .png', 'mask_20203 2 7 4 8 .png', 'mask_20203 2 7 4 51.png', 'mask_20203 2 7 5 57.png', 'mask_20203 2 7 6 58.png', 'mask_20203 2 7 7 45.png', 'mask_20203 2 7 8 43.png', 'mask_20203 2 7 9 30.png', 'mask_20203 2 7 1024.png', 'mask_20203 2 7 1120.png', 'mask_20203 2 7 1211.png', 'mask_20203 2 7 1319.png', 'mask_20203 2 7 1410.png', 'mask_20203 2 7 1817.png', 'mask_20203 2 7 195 .png', 'mask_20203 2 7 1944.png', 'mask_20203 2 7 2037.png', 'mask_20203 2 7 2120.png', 'mask_20203 2 7 221 .png', 'mask_20203 2 7 2249.png', 'mask_20203 2 7 2356.png', 'mask_20203 2 7 251 .png', 'mask_20203 2 7 2617.png', 'mask_20203 2 7 2721.png', 'mask_20203 2 7 2815.png', 'mask_20203 2 7 3055.png', 'mask_20203 2 7 326 .png', 'mask_20203 2 7 3252.png', 'mask_20203 2 7 3337.png', 'mask_20203 2 7 3440.png', 'mask_20203 2 7 3533.png', 'mask_20203 2 7 4538.png', 'mask_20203 2 7 4633.png', 'mask_20203 2 7 4735.png', 'mask_20203 2 7 4820.png', 'mask_20203 2 7 494 .png', 'mask_20203 2 7 5026.png', 'mask_20203 2 7 517 .png', 'mask_20203 2 7 527 .png', 'mask_20203 2 7 536 .png', 'mask_20203 2 7 547 .png', 'mask_20203 2 8 8 22.png', 'mask_20203 2 8 9 19.png', 'mask_20203 2 8 101 .png', 'mask_20203 2 8 1053.png', 'mask_20203 2 8 1141.png', 'mask_20203 2 8 1346.png', 'mask_20203 2 8 1430.png', 'mask_20203 2 8 1516.png', 'mask_20203 2 8 1625.png', 'mask_20203 2 8 1712.png', 'mask_20203 2 8 1810.png', 'mask_20203 2 8 1859.png', 'mask_20203 2 8 2451.png', 'mask_20203 2 8 2534.png', 'mask_20203 2 8 2627.png', 'mask_20203 2 8 2711.png', 'mask_20203 2 8 2858.png', 'mask_20203 2 8 2951.png', 'mask_20203 2 8 3032.png', 'mask_20203 2 8 3224.png', 'mask_20203 2 8 337 .png', 'mask_20203 2 8 346 .png', 'mask_20203 2 8 3451.png', 'mask_20203 2 8 360 .png', 'mask_20203 2 8 3924.png', 'mask_20203 2 8 405 .png', 'mask_20203 2 8 410 .png', 'mask_20203 2 8 5213.png', 'mask_20203 2 8 5333.png', 'mask_20203 2 8 5415.png', 'mask_20203 2 8 5740.png', 'mask_20203 2 9 3629.png', 'mask_20203 2 9 3725.png', 'mask_20203 2 9 388 .png', 'mask_20203 2 9 3856.png', 'mask_20203 2 9 3946.png', 'mask_20203 2 9 5026.png', 'mask_20203 2 9 5123.png', 'mask_20203 2 9 565 .png', 'mask_20203 2 9 577 .png', 'mask_20203 2 102 28.png', 'mask_20203 2 103 23.png', 'mask_20203 2 104 1 .png', 'mask_20203 2 104 44.png', 'mask_20203 2 105 42.png', 'mask_20203 2 106 52.png', 'mask_20203 2 107 58.png', 'mask_20203 2 104636.png', 'mask_20203 2 10484 .png', 'mask_20203 2 10502 .png', 'mask_20203 2 134210.png', 'mask_20203 2 13433 .png', 'mask_20203 2 134358.png', 'mask_20203 2 134543.png', 'mask_20203 2 134823.png', 'mask_20203 2 134916.png', 'mask_20203 2 135022.png', 'mask_20203 2 135117.png', 'mask_20203 2 13528 .png', 'mask_20203 2 13538 .png', 'mask_20203 2 141646.png', 'mask_20203 3 6 5514.png', 'mask_20203 3 6 566 .png', 'mask_20203 3 6 5648.png', 'mask_20203 3 6 5747.png', 'mask_20203 3 6 5852.png', 'mask_20203 3 6 5947.png', 'mask_20203 3 7 0 38.png', 'mask_20203 3 7 1 21.png', 'mask_20203 3 7 2 3 .png', 'mask_20203 3 7 2 48.png', 'mask_20203 3 7 3 30.png', 'mask_20203 3 7 4 16.png', 'mask_20203 3 7 1925.png', 'mask_20203 3 7 2027.png', 'mask_20203 3 7 2116.png', 'mask_20203 3 7 2217.png', 'mask_20203 3 7 237 .png', 'mask_20203 3 7 241 .png', 'mask_20203 3 7 2456.png', 'mask_20203 3 7 2557.png', 'mask_20203 3 7 2648.png', 'mask_20203 3 7 2731.png', 'mask_20203 3 7 2854.png', 'mask_20203 3 7 2939.png', 'mask_20203 3 7 3956.png', 'mask_20203 3 7 410 .png', 'mask_20203 3 7 4146.png', 'mask_20203 3 7 4239.png', 'mask_20203 3 7 4338.png', 'mask_20203 3 7 4451.png', 'mask_20203 3 7 4537.png', 'mask_20203 3 7 4627.png', 'mask_20203 3 7 4716.png', 'mask_20203 3 7 484 .png', 'mask_20203 3 7 4859.png', 'mask_20203 3 7 4946.png', 'mask_20203 3 8 6 35.png', 'mask_20203 3 8 7 19.png', 'mask_20203 3 8 8 14.png', 'mask_20203 3 8 9 3 .png', 'mask_20203 3 8 108 .png', 'mask_20203 3 8 1051.png', 'mask_20203 3 8 1146.png', 'mask_20203 3 8 1311.png', 'mask_20203 3 8 148 .png', 'mask_20203 3 8 1520.png', 'mask_20203 3 8 168 .png', 'mask_20203 3 8 176 .png', 'mask_20203 3 8 1917.png', 'mask_20203 3 8 2013.png', 'mask_20203 3 8 2057.png', 'mask_20203 3 8 2221.png', 'mask_20203 3 8 2312.png', 'mask_20203 3 8 247 .png', 'mask_20203 3 8 2453.png', 'mask_20203 3 8 2541.png', 'mask_20203 3 8 2629.png', 'mask_20203 3 8 2729.png', 'mask_20203 3 8 2823.png', 'mask_20203 3 8 297 .png', 'mask_20203 3 8 2956.png', 'mask_20203 108 0 11.png', 'mask_20203 108 1 21.png', 'mask_20203 108 2 19.png', 'mask_20203 108 3 23.png', 'mask_20203 108 7 55.png', 'mask_20203 108 9 42.png', 'mask_20203 108 1029.png', 'mask_20203 108 1118.png', 'mask_20203 108 1224.png', 'mask_20203 108 1323.png', 'mask_20203 108 147 .png', 'mask_20203 108 1451.png', 'mask_20203 108 187 .png', 'mask_20203 108 1851.png', 'mask_20203 108 1944.png', 'mask_20203 108 2044.png', 'mask_20203 108 2135.png', 'mask_20203 108 2226.png', 'mask_20203 108 2315.png', 'mask_20203 108 243 .png', 'mask_20203 108 2449.png', 'mask_20203 108 2544.png', 'mask_20203 108 2644.png', 'mask_20203 108 2733.png', 'mask_20203 108 3339.png', 'mask_20203 108 3425.png', 'mask_20203 108 3524.png', 'mask_20203 108 3610.png', 'mask_20203 108 372 .png', 'mask_20203 108 3832.png', 'mask_20203 108 3921.png', 'mask_20203 108 4033.png', 'mask_20203 108 4122.png', 'mask_20203 108 424 .png', 'mask_20203 108 4256.png', 'mask_20203 108 4423.png', 'mask_20203 109 1728.png', 'mask_20203 109 1812.png', 'mask_20203 109 1946.png', 'mask_20203 109 2034.png', 'mask_20203 109 4320.png', 'mask_20203 109 4428.png', 'mask_20203 109 4545.png', 'mask_20203 109 5523.png', 'mask_20203 109 5625.png', 'mask_20203 109 5735.png', 'mask_20203 10108 45.png', 'mask_20203 10109 42.png', 'mask_20203 10101111.png', 'mask_20203 1010127 .png', 'mask_20203 1010138 .png', 'mask_20203 10101358.png', 'mask_20203 1010341 .png', 'mask_20203 10103527.png', 'mask_20203 10103622.png', 'mask_20203 10103713.png', 'mask_20203 1010385 .png', 'mask_20203 10103850.png', 'mask_20203 10103945.png', 'mask_20203 10104039.png', 'mask_20203 10104128.png', 'mask_20203 10104214.png', 'mask_20203 1010430 .png', 'mask_20203 10104353.png', 'mask_20203 10105510.png', 'mask_20203 1010566 .png', 'mask_20203 1010573 .png', 'mask_20203 10105820.png', 'mask_20203 10111 7 .png', 'mask_20203 10112 6 .png', 'mask_20203 10112 59.png', 'mask_20203 10113 48.png', 'mask_20203 10115 18.png', 'mask_20203 10116 11.png', 'mask_20203 10117 9 .png', 'mask_20203 10117 58.png', 'mask_20203 10111112.png', 'mask_20203 10111216.png', 'mask_20203 10111311.png', 'mask_20203 1011146 .png', 'mask_20203 10111448.png', 'mask_20203 10111532.png', 'mask_20203 10111616.png', 'mask_20203 10111710.png', 'mask_20203 10112411.png', 'mask_20203 10112513.png', 'mask_20203 10112711.png', 'mask_20203 10112855.png', 'mask_20203 18183 47.png', 'mask_20203 18184 53.png', 'mask_20203 18185 50.png', 'mask_20203 18186 40.png', 'mask_20203 18187 38.png', 'mask_20203 18188 24.png', 'mask_20203 18189 16.png', 'mask_20203 1818107 .png', 'mask_20203 1818113 .png', 'mask_20203 18181155.png', 'mask_20203 18181526.png', 'mask_20203 18181616.png', 'mask_20203 18181853.png', 'mask_20203 18181947.png', 'mask_20203 18182042.png', 'mask_20203 18182217.png', 'mask_20203 18212818.png', 'mask_20203 18212915.png', 'mask_20203 1821306 .png', 'mask_20203 1821313 .png', 'mask_20203 18213149.png', 'mask_20203 18213235.png', 'mask_20203 18213319.png', 'mask_20203 1821343 .png', 'mask_20203 18213620.png', 'mask_20203 18213718.png', 'mask_20203 18213835.png', 'mask_20203 18213952.png', 'mask_20203 18214040.png', 'mask_20203 18214129.png', 'mask_20203 18214214.png', 'mask_20203 18214257.png', 'mask_20203 18214347.png', 'mask_20203 18214739.png', 'mask_20203 18214853.png', 'mask_20203 18214956.png', 'mask_20203 18215035.png', 'mask_20203 18215132.png', 'mask_20203 18215236.png', 'mask_20203 19153128.png', 'mask_20203 19153229.png', 'mask_20203 19153327.png', 'mask_20203 19153411.png', 'mask_20203 1915352 .png', 'mask_20203 1915374 .png', 'mask_20203 1915386 .png', 'mask_20203 19153925.png', 'mask_20203 19154022.png', 'mask_20203 19154125.png', 'mask_20203 19154518.png', 'mask_20203 1915529 .png', 'mask_20203 19155349.png', 'mask_20203 19155442.png', 'mask_20203 19155530.png', 'mask_20203 19155613.png', 'mask_20203 1915574 .png', 'mask_20203 19163 24.png', 'mask_20203 19164 45.png', 'mask_20203 19165 48.png', 'mask_20203 19166 40.png', 'mask_20203 19167 22.png', 'mask_20200506080829.png', 'mask_20200506081004.png', 'mask_20200506081118.png', 'mask_20200506081223.png', 'mask_20200506081321.png', 'mask_20200506081442.png', 'mask_20200506081616.png', 'mask_20200506081752.png', 'mask_20200506082052.png', 'mask_20200506082156.png', 'mask_20200506092640.png', 'mask_20200506092743.png', 'mask_20200506092859.png', 'mask_20200506092959.png', 'mask_20200506093057.png', 'mask_20200506093151.png', 'mask_20200506123335.png', 'mask_20200506124751.png', 'mask_20200506124851.png', 'mask_20200506125131.png', 'mask_20200506125234.png', 'mask_20200506125328.png', 'mask_20200506125422.png', 'mask_20200506125809.png', 'mask_20200506125957.png', 'mask_20200506130051.png', 'mask_20200506131011.png', 'mask_20200506131620.png', 'mask_20200506131733.png', 'mask_20200506131837.png', 'mask_20200506132729.png', 'mask_20200506132847.png', 'mask_20200506133000.png', 'mask_20200506133057.png', 'mask_20200506133150.png', 'mask_20200506133248.png', 'mask_20200506133408.png', 'mask_20200506133512.png', 'mask_20200507065054.png', 'mask_20200507065206.png', 'mask_20200507065456.png', 'mask_20200507065556.png', 'mask_20200515193120.png', 'mask_20200515193255.png', 'mask_20200515193355.png', 'mask_20200515193444.png', 'mask_20200515193538.png', 'mask_20200515193642.png', 'mask_20200515193751.png', 'mask_20200515193847.png', 'mask_20200515193957.png', 'mask_20200515194057.png', 'mask_20200515194253.png', 'mask_20200518091221.png', 'mask_20200518091429.png', 'mask_20200518091534.png', 'mask_20200518091713.png', 'mask_20200518091817.png', 'mask_20200518091923.png', 'mask_20200518092024.png', 'mask_20200518092313.png', 'mask_20200518092406.png', 'mask_20200518102103.png', 'mask_20200518102200.png', 'mask_20200518102301.png', 'mask_20200518102402.png', 'mask_20200518102514.png', 'mask_20200518102617.png', 'mask_20200518124244.png', 'mask_20200518124346.png', 'mask_20200518124448.png', 'mask_20200518124537.png', 'mask_20200518124633.png', 'mask_20200518124727.png', 'mask_20200518125115.png', 'mask_20200518125215.png', 'mask_20200518125323.png', 'mask_20200518125431.png', 'mask_20200518125604.png', 'mask_20200518131247.png', 'mask_20200518131347.png', 'mask_20200518131508.png', 'mask_20200518133323.png', 'mask_20200518133420.png', 'mask_20200518133511.png', 'mask_20200518133612.png', 'mask_20200518133704.png', 'mask_20200519080842.png', 'mask_20200519080948.png', 'mask_20200519081050.png', 'mask_20200519081201.png', 'mask_20200519081303.png', 'mask_20200519081405.png', 'mask_20200519081509.png', 'mask_20200519081604.png', 'mask_20200519081729.png', 'mask_20200519081943.png', 'mask_20200519082504.png', 'mask_20200519082558.png', 'mask_20200519082713.png', 'mask_20200519082816.png', 'mask_20200519082908.png', 'mask_20200519083012.png', 'mask_20200519083111.png', 'mask_20200519083620.png', 'mask_20200519083705.png', 'mask_20200519083804.png', 'mask_20200525162030.png', 'mask_20200525162118.png', 'mask_20200525162222.png', 'mask_20200525162318.png', 'mask_20200525172549.png', 'mask_20200525172631.png', 'mask_20200525172725.png', 'mask_20200525172824.png', 'mask_20200525172911.png', 'mask_20200525173003.png', 'mask_20200525173046.png', 'mask_20200525173125.png', 'mask_20200525173207.png', 'mask_20200525173310.png', 'mask_20200525173448.png', 'mask_20200525173531.png', 'mask_20200525173610.png', 'mask_20200525173647.png', 'mask_20200525181216.png', 'mask_20200525181307.png', 'mask_20200525181359.png', 'mask_20200525181453.png', 'mask_20200525181548.png', 'mask_20200525181642.png', 'mask_20200525181752.png', 'mask_20200525181849.png', 'mask_20200525181952.png', 'mask_20200525182046.png', 'mask_20200525182330.png', 'mask_20200525182418.png', 'mask_20200525190657.png', 'mask_20200525190814.png', 'mask_20200525194125.png', 'mask_20200525194237.png', 'mask_20200525194340.png', 'mask_20200525194442.png', 'mask_20200525194550.png', 'mask_20200525194641.png', 'mask_20200525194732.png', 'mask_20200525194816.png', 'mask_20200525194919.png', 'mask_20200525195009.png', 'mask_20200525195057.png', 'mask_20200525195146.png', 'mask_20200525195227.png', 'mask_20200525195323.png', 'mask_20200525213127.png', 'mask_20200525213213.png', 'mask_20200525213252.png', 'mask_20200525213332.png', 'mask_20200525213412.png', 'mask_20200525213457.png', 'mask_20200525213545.png', 'mask_20200525213623.png', 'mask_20200525213658.png', 'mask_20200525213739.png', 'mask_20200525213813.png', 'mask_20200526173259.png', 'mask_20200526173349.png', 'mask_20200526173443.png', 'mask_20200526173550.png', 'mask_20200526173723.png', 'mask_20200526173816.png', 'mask_20200526173859.png', 'mask_20200526173942.png', 'mask_20200526174031.png', 'mask_20200526174126.png', 'mask_20200526174229.png', 'mask_20200526174346.png', 'mask_20200526174434.png', 'mask_20200526174558.png', 'mask_20200526192729.png', 'mask_20200526192813.png', 'mask_20200526192901.png', 'mask_20200526192944.png', 'mask_20200526193032.png', 'mask_20200526193117.png', 'mask_20200526193205.png', 'mask_20200526193250.png', 'mask_20200526193335.png', 'mask_20200526193423.png', 'mask_20200526193509.png', 'mask_20200526193553.png', 'mask_20200526194734.png', 'mask_20200526194818.png', 'mask_20200526195129.png', 'mask_20200526195249.png', 'mask_20200526195337.png', 'mask_20200526195417.png', 'mask_20200526195501.png', 'mask_20200526195541.png', 'mask_20200526195621.png', 'mask_20200528173714.png', 'mask_20200528173811.png', 'mask_20200528173922.png', 'mask_20200528174018.png', 'mask_20200528174113.png', 'mask_20200528174200.png', 'mask_20200528174300.png', 'mask_20200528174351.png', 'mask_20200528174637.png', 'mask_20200528174829.png', 'mask_20200528174920.png', 'mask_20200528175018.png', 'mask_20200528175225.png', 'mask_20200528175854.png', 'mask_20200528175945.png', 'mask_20200528180031.png', 'mask_20200528180126.png', 'mask_20200528192247.png', 'mask_20200528192335.png', 'mask_20200528192424.png', 'mask_20200528192516.png', 'mask_20200528192606.png', 'mask_20200528192652.png', 'mask_20200528192735.png', 'mask_20200528192816.png', 'mask_20200528193045.png', 'mask_20200528193223.png', 'mask_20200528193342.png', 'mask_20200528193435.png', 'mask_20200528193517.png', 'mask_20200528193604.png', 'mask_20200528193651.png', 'mask_20200528193733.png', 'mask_20200528193816.png', 'mask_20200528193906.png', 'mask_20200528193952.png', 'mask_20200528194039.png', 'mask_20200528203650.png', 'mask_20200528203737.png', 'mask_20200528203824.png', 'mask_20200528203934.png', 'mask_20200528204039.png', 'mask_20200528204131.png', 'mask_20200528204350.png', 'mask_20200528204441.png', 'mask_20200528204518.png', 'mask_20200528204603.png', 'mask_20200528204654.png', 'mask_20200528204740.png', 'mask_20200528204830.png', 'mask_20200528204928.png', 'mask_20200528205037.png', 'mask_20200528205841.png', 'mask_20200528205937.png', 'mask_20200528210029.png', 'mask_20200529163952.png', 'mask_20200529164037.png', 'mask_20200529172017.png', 'mask_20200529172109.png', 'mask_20200529172221.png', 'mask_20200529172330.png', 'mask_20200529172421.png', 'mask_20200529172520.png', 'mask_20200529172614.png', 'mask_20200529172728.png', 'mask_20200529181313.png', 'mask_20200529181353.png', 'mask_20200529181447.png', 'mask_20200529181709.png', 'mask_20200529181943.png', 'mask_20200529193152.png', 'mask_20200529193525.png', 'mask_20200529193636.png', 'mask_20200529193745.png', 'mask_20200529194136.png', 'mask_20200529194346.png', 'mask_20200529194441.png', 'mask_20200529194536.png', 'mask_20200529194705.png', 'mask_20200529194801.png', 'mask_20200529194905.png', 'mask_20200529195006.png', 'mask_20200529195107.png', 'mask_20200529195355.png', 'mask_20200529195453.png', 'mask_20200529195657.png', 'mask_20200529195750.png', 'mask_20200529195909.png', 'mask_20200529200019.png', 'mask_20200529200152.png', 'mask_20200529200427.png', 'mask_20200529203751.png', 'mask_20200529203831.png', 'mask_20200529203909.png', 'mask_20200529205045.png', 'mask_20200529205132.png', 'mask_20200529205229.png', 'mask_20200603131629.png', 'mask_20200603131724.png', 'mask_20200603131815.png', 'mask_20200603131911.png', 'mask_20200603131956.png', 'mask_20200603132048.png', 'mask_20200603132131.png', 'mask_20200603132250.png', 'mask_20200603132352.png', 'mask_20200603132505.png', 'mask_20200604083941.png', 'mask_20200604084051.png', 'mask_20200604090121.png', 'mask_20200604090401.png', 'mask_20200604090500.png', 'mask_20200604090609.png', 'mask_20200604090718.png', 'mask_20200604090821.png', 'mask_20200604090946.png', 'mask_20200604091308.png', 'mask_20200604092625.png', 'mask_20200604092718.png', 'mask_20200604092811.png', 'mask_20200604092907.png', 'mask_20200604124345.png', 'mask_20200604124701.png', 'mask_20200604124819.png', 'mask_20200604124913.png', 'mask_20200604125007.png', 'mask_20200604125053.png', 'mask_20200604125141.png', 'mask_20200604132507.png', 'mask_20200604132602.png', 'mask_20200604132716.png', 'mask_20200604132819.png', 'mask_20200604132919.png', 'mask_20200604133021.png', 'mask_20200604133140.png', 'mask_20200604133252.png', 'mask_20200604133353.png', 'mask_20200604133456.png', 'mask_20200604133553.png', 'mask_20200604133652.png', 'mask_20200604133752.png', 'mask_20200604133846.png', 'mask_20200604133935.png', 'mask_20200604134029.png', 'mask_20200604134120.png', 'mask_20200604140549.png', 'mask_20200604140653.png', 'mask_20200604140803.png', 'mask_20200604140917.png', 'mask_20200604141018.png', 'mask_20200604141122.png', 'mask_20200606074222.png', 'mask_20200606074311.png', 'mask_20200606074433.png', 'mask_20200606074605.png', 'mask_20200609213724.png', 'mask_20200609213812.png', 'mask_20200609213900.png', 'mask_20200609213948.png', 'mask_20200609214032.png', 'mask_20200609214117.png', 'mask_20200609214156.png', 'mask_20200609214241.png', 'mask_20200609214333.png', 'mask_20200825181427.png', 'mask_20200929112735.png', 'mask_20200929113215.png', 'mask_20200929113853.png', 'mask_20200929114720.png', 'mask_20200929115129.png', 'mask_20200929115704.png', 'mask_20200929121119.png', 'mask_20200929122440.png', 'mask_20200929122824.png', 'mask_20201010062212.png', 'mask_20201010063406.png', 'mask_20201010064342.png', 'mask_20201010064803.png', 'mask_20201010065218.png', 'mask_20201010070727.png', 'mask_20201010071202.png', 'mask_20201010071452.png', 'mask_20201010071750.png', 'mask_20201010072638.png', 'mask_20201010072919.png', 'mask_20201010073246.png', 'mask_20201010073540.png', 'mask_20201010073902.png', 'mask_20201010074439.png', 'mask_20201010074951.png', 'mask_20201010075239.png', 'mask_20201010080733.png', 'mask_20201010081058.png', 'mask_20201010081347.png', 'mask_20201010081635.png', 'mask_20201010081859.png', 'mask_20201010082129.png', 'mask_20201010083714.png', 'mask_20201010084156.png', 'mask_20201010084509.png', 'mask_20201010084756.png', 'mask_20201010085619.png', 'mask_20201010085940.png', 'mask_20201010090220.png', 'mask_20201010090522.png', 'mask_20201010090804.png', 'mask_20201010091100.png', 'mask_20201010091451.png', 'mask_20201010091809.png', 'mask_20201010092243.png', 'mask_20201010092648.png', 'mask_20201010093559.png', 'mask_20201010094414.png', 'mask_20201010094641.png', 'mask_20201010101746.png', 'mask_20201010102332.png', 'mask_20201010102631.png', 'mask_20201012070712.png', 'mask_20201012083029.png', 'mask_20201012134236.png', 'mask_20201013103558.png', 'mask_20201029115940.png', 'mask_20201029120232.png', 'mask_20201029120526.png', 'mask_20201029120821.png', 'mask_20201029121041.png', 'mask_20201029121314.png', 'mask_20201029121544.png', 'mask_20201029121807.png', 'mask_20201029122121.png', 'mask_20201029122411.png', 'mask_20201029123903.png', 'mask_20201029125315.png', 'mask_20201029125548.png', 'mask_20201029130733.png', 'mask_20201029131521.png', 'mask_20201029134906.png', 'mask_20201029135138.png', 'mask_20201030105026.png', 'mask_20201030105334.png', 'mask_20201030105633.png', 'mask_20201030125104.png', 'mask_20201030140853.png', 'mask_20201031073646.png', 'mask_20201031073935.png', 'mask_20201031075218.png', 'mask_20201031075459.png', 'mask_20201031075743.png', 'mask_20201031080048.png', 'mask_20201031080422.png', 'mask_20201031081545.png', 'mask_20201031082839.png', 'mask_20201031083244.png', 'mask_20201031083602.png', 'mask_20201031084355.png', 'mask_20201031084948.png', 'mask_20201031085334.png', 'mask_20201031085752.png', 'mask_20201031090000.png', 'mask_20201031090433.png', 'mask_20201031090702.png', 'mask_20201031091008.png', 'mask_20201031091303.png', 'mask_20201031091815.png', 'mask_20201031092253.png', 'mask_20201 319 5348.png', 'mask_20201 31101226.png', 'mask_20201 3110154 .png', 'mask_20201 31101629.png', 'mask_20201 31101723.png', 'mask_20201 31101858.png', 'mask_20201 31102052.png', 'mask_20201 31102239.png', 'mask_20201 31102423.png', 'mask_20201 31102550.png', 'mask_20201 31102647.png', 'mask_20201 3110289 .png', 'mask_20201 31104051.png', 'mask_20201 31104157.png', 'mask_20201 31104559.png', 'mask_20201 31104720.png', 'mask_20201 31104844.png', 'mask_20201 31105122.png', 'mask_20201 31105244.png', 'mask_20201 3110544 .png', 'mask_20201 3110559 .png', 'mask_20201 31105849.png', 'mask_20201 31105957.png', 'mask_20201 31111 10.png', 'mask_20201 3111178 .png', 'mask_20201 31111810.png', 'mask_20201 31111912.png', 'mask_20201 31112018.png', 'mask_20201 3111241 .png', 'mask_20201 31112538.png', 'mask_20201 31112656.png', 'mask_20201 31112756.png', 'mask_20201 3111296 .png', 'mask_20201 3111306 .png', 'mask_20201 31113117.png', 'mask_20201 31113314.png', 'mask_20201 31125531.png', 'mask_20201 31125634.png', 'mask_20201 31125755.png', 'mask_20201 3112591 .png', 'mask_20201 31125955.png', 'mask_20201 31134656.png', 'mask_20201 3113489 .png', 'mask_20201 3113498 .png', 'mask_20201 3113512 .png', 'mask_20201 31135237.png', 'mask_20201 31135335.png', 'mask_20201 31135436.png', 'mask_20201 31141714.png', 'mask_20201 31141821.png', 'mask_20201 31141938.png', 'mask_20201 31142043.png', 'mask_20201 3114227 .png', 'mask_20201 31154 38.png', 'mask_20201 31155 34.png', 'mask_20201 31156 26.png', 'mask_20201 31157 17.png', 'mask_20201 31158 52.png', 'mask_20201 31151021.png', 'mask_20201 31151859.png', 'mask_20202 10125333.png', 'mask_20202 1012553 .png', 'mask_20202 10125611.png', 'mask_20202 1012572 .png', 'mask_20202 10125753.png', 'mask_20202 10125859.png', 'mask_20202 10130 25.png', 'mask_20202 10131 18.png', 'mask_20202 10135726.png', 'mask_20202 10135838.png', 'mask_20202 10135943.png', 'mask_20202 10140 50.png', 'mask_20202 10141 56.png', 'mask_20202 10142 59.png', 'mask_20202 10143 52.png', 'mask_20202 10144 44.png', 'mask_20202 10145 51.png', 'mask_20202 10146 40.png', 'mask_20202 10141311.png', 'mask_20202 10141416.png', 'mask_20202 10141529.png', 'mask_20202 10141632.png', 'mask_20202 10141727.png', 'mask_20202 10141833.png', 'mask_20202 10141939.png', 'mask_20202 10142044.png', 'mask_20202 10142150.png', 'mask_20202 10142312.png', 'mask_20202 10143319.png', 'mask_20202 10143440.png', 'mask_20202 10144037.png', 'mask_20202 10144122.png', 'mask_20202 10145647.png', 'mask_20202 10145756.png', 'mask_20202 10145851.png', 'mask_20202 10145958.png', 'mask_20202 10150 59.png', 'mask_20202 10151132.png', 'mask_20202 10151240.png', 'mask_20202 10151348.png', 'mask_20202 10151444.png', 'mask_20202 10151537.png', 'mask_20202 10151628.png', 'mask_20202 10151724.png', 'mask_20202 10152438.png', 'mask_20202 10152529.png', 'mask_20202 10152646.png', 'mask_20202 10152846.png', 'mask_20202 10164 8 .png', 'mask_20202 10165 8 .png', 'mask_20202 10166 4 .png', 'mask_20202 10166 59.png', 'mask_20202 10168 2 .png', 'mask_20202 10169 31.png', 'mask_20202 10161026.png', 'mask_20202 10161122.png', 'mask_20202 118 378 .png', 'mask_20202 118 380 .png', 'mask_20202 118 3846.png', 'mask_20202 118 3939.png', 'mask_20202 118 4043.png', 'mask_20202 118 4142.png', 'mask_20202 118 4544.png', 'mask_20202 118 4655.png', 'mask_20202 118 482 .png', 'mask_20202 118 4859.png', 'mask_20202 118 4952.png', 'mask_20202 118 511 .png', 'mask_20202 118 553 .png', 'mask_20202 118 5617.png', 'mask_20202 118 5711.png', 'mask_20202 118 580 .png', 'mask_20202 118 5853.png', 'mask_20202 118 5953.png', 'mask_20202 119 1 8 .png', 'mask_20202 119 2 20.png', 'mask_20202 119 3 14.png', 'mask_20202 119 4 19.png', 'mask_20202 119 5 14.png', 'mask_20202 119 6 9 .png', 'mask_20202 119 2517.png', 'mask_20202 119 2622.png', 'mask_20202 119 2726.png', 'mask_20202 119 2815.png', 'mask_20202 119 292 .png', 'mask_20202 119 2949.png', 'mask_20202 119 3053.png', 'mask_20202 119 3236.png', 'mask_20202 119 3327.png', 'mask_20202 119 3431.png', 'mask_20202 119 4418.png', 'mask_20202 119 4511.png', 'mask_20202 119 466 .png', 'mask_20202 119 473 .png', 'mask_20202 119 488 .png', 'mask_20202 119 498 .png', 'mask_20202 119 509 .png', 'mask_20202 119 5111.png', 'mask_20202 119 525 .png', 'mask_20202 119 5257.png', 'mask_20202 119 5355.png', 'mask_20202 138 4522.png', 'mask_20202 138 4619.png', 'mask_20202 138 4736.png', 'mask_20202 138 4833.png', 'mask_20202 138 4937.png', 'mask_20202 138 5033.png', 'mask_20202 138 5140.png', 'mask_20202 138 5236.png', 'mask_20202 138 5332.png', 'mask_20202 138 5434.png', 'mask_20202 138 5546.png', 'mask_20202 138 5644.png', 'mask_20202 139 2 8 .png', 'mask_20202 139 3 3 .png', 'mask_20202 139 4 5 .png', 'mask_20202 139 5 57.png', 'mask_20202 139 7 19.png', 'mask_20202 139 8 12.png', 'mask_20202 139 9 0 .png', 'mask_20202 139 9 57.png', 'mask_20202 139 1052.png', 'mask_20202 139 1144.png', 'mask_20202 139 1230.png', 'mask_20202 139 1528.png', 'mask_20202 139 1647.png', 'mask_20202 139 404 .png', 'mask_20202 139 4123.png', 'mask_20202 139 4227.png', 'mask_20202 139 4330.png', 'mask_20202 139 4432.png', 'mask_20202 139 4920.png', 'mask_20202 139 515 .png', 'mask_20202 139 5211.png', 'mask_20202 139 5318.png', 'mask_20202 139 5423.png', 'mask_20202 139 5535.png', 'mask_20202 139 5639.png', 'mask_20202 13106 47.png', 'mask_20202 13107 54.png', 'mask_20202 13109 3 .png', 'mask_20202 13102241.png', 'mask_20202 13102341.png', 'mask_20202 13102448.png', 'mask_20202 1410209 .png', 'mask_20202 1410219 .png', 'mask_20202 1410220 .png', 'mask_20202 1410233 .png', 'mask_20202 14102354.png', 'mask_20202 14102453.png', 'mask_20202 14102539.png', 'mask_20202 14102814.png', 'mask_20202 14102931.png', 'mask_20202 14103032.png', 'mask_20202 14103222.png', 'mask_20202 14103333.png', 'mask_20202 1410398 .png', 'mask_20202 14104034.png', 'mask_20202 14104248.png', 'mask_20202 14104558.png', 'mask_20202 14104723.png', 'mask_20202 14104839.png', 'mask_20202 14104946.png', 'mask_20202 14105218.png', 'mask_20202 14105319.png', 'mask_20202 14105445.png', 'mask_20202 14105716.png', 'mask_20202 14105833.png', 'mask_20202 1411235 .png', 'mask_20202 14112411.png', 'mask_20202 14112459.png', 'mask_20202 14112550.png', 'mask_20202 14112637.png', 'mask_20202 14112725.png', 'mask_20202 14112817.png', 'mask_20202 1411296 .png', 'mask_20202 1411303 .png', 'mask_20202 14113126.png', 'mask_20202 14113220.png', 'mask_20202 14113328.png', 'mask_20202 14113942.png', 'mask_20202 14114046.png', 'mask_20202 14114156.png', 'mask_20202 14114413.png', 'mask_20202 14114618.png', 'mask_20202 14114723.png', 'mask_20202 14114823.png', 'mask_20202 14115031.png', 'mask_20202 14115216.png', 'mask_20202 14115535.png', 'mask_20202 1411574 .png', 'mask_20202 1411589 .png', 'mask_20202 14122049.png', 'mask_20202 14122147.png', 'mask_20202 1412246 .png', 'mask_20202 14122547.png', 'mask_20202 14122743.png', 'mask_20202 14123149.png', 'mask_20202 14123243.png', 'mask_20202 14123334.png', 'mask_20202 14123432.png', 'mask_20202 27163633.png', 'mask_20202 27163837.png', 'mask_20202 27163947.png', 'mask_20202 27164047.png', 'mask_20202 27164147.png', 'mask_20202 27164235.png', 'mask_20202 27164325.png', 'mask_20202 27164432.png', 'mask_20202 27164542.png', 'mask_20202 27164654.png', 'mask_20202 27164751.png', 'mask_20202 27164849.png', 'mask_20202 29101248.png', 'mask_20202 2910146 .png', 'mask_20202 2910151 .png', 'mask_20202 2910165 .png', 'mask_20202 29101659.png', 'mask_20202 29101758.png', 'mask_20202 29101842.png', 'mask_20202 29101949.png', 'mask_20202 29102037.png', 'mask_20202 29102142.png', 'mask_20202 29102253.png', 'mask_20202 29102343.png', 'mask_20203 2 7 3 56.png', 'mask_20203 2 7 4 39.png', 'mask_20203 2 7 5 33.png', 'mask_20203 2 7 6 34.png', 'mask_20203 2 7 7 31.png', 'mask_20203 2 7 8 23.png', 'mask_20203 2 7 9 18.png', 'mask_20203 2 7 106 .png', 'mask_20203 2 7 110 .png', 'mask_20203 2 7 1157.png', 'mask_20203 2 7 137 .png', 'mask_20203 2 7 1357.png', 'mask_20203 2 7 180 .png', 'mask_20203 2 7 1853.png', 'mask_20203 2 7 1932.png', 'mask_20203 2 7 2023.png', 'mask_20203 2 7 213 .png', 'mask_20203 2 7 2149.png', 'mask_20203 2 7 2239.png', 'mask_20203 2 7 2330.png', 'mask_20203 2 7 2441.png', 'mask_20203 2 7 265 .png', 'mask_20203 2 7 277 .png', 'mask_20203 2 7 283 .png', 'mask_20203 2 7 3043.png', 'mask_20203 2 7 3136.png', 'mask_20203 2 7 3240.png', 'mask_20203 2 7 3323.png', 'mask_20203 2 7 3429.png', 'mask_20203 2 7 3521.png', 'mask_20203 2 7 4520.png', 'mask_20203 2 7 4611.png', 'mask_20203 2 7 4714.png', 'mask_20203 2 7 487 .png', 'mask_20203 2 7 4853.png', 'mask_20203 2 7 501 .png', 'mask_20203 2 7 5054.png', 'mask_20203 2 7 5150.png', 'mask_20203 2 7 5250.png', 'mask_20203 2 7 5347.png', 'mask_20203 2 8 8 1 .png', 'mask_20203 2 8 9 6 .png', 'mask_20203 2 8 9 50.png', 'mask_20203 2 8 1032.png', 'mask_20203 2 8 1128.png', 'mask_20203 2 8 1316.png', 'mask_20203 2 8 1419.png', 'mask_20203 2 8 1459.png', 'mask_20203 2 8 165 .png', 'mask_20203 2 8 1654.png', 'mask_20203 2 8 1759.png', 'mask_20203 2 8 1846.png', 'mask_20203 2 8 2427.png', 'mask_20203 2 8 2520.png', 'mask_20203 2 8 2614.png', 'mask_20203 2 8 2657.png', 'mask_20203 2 8 2841.png', 'mask_20203 2 8 2938.png', 'mask_20203 2 8 3021.png', 'mask_20203 2 8 329 .png', 'mask_20203 2 8 3256.png', 'mask_20203 2 8 3351.png', 'mask_20203 2 8 3439.png', 'mask_20203 2 8 3540.png', 'mask_20203 2 8 392 .png', 'mask_20203 2 8 3955.png', 'mask_20203 2 8 4038.png', 'mask_20203 2 8 5158.png', 'mask_20203 2 8 5320.png', 'mask_20203 2 8 543 .png', 'mask_20203 2 8 5452.png', 'mask_20203 2 9 3612.png', 'mask_20203 2 9 372 .png', 'mask_20203 2 9 3758.png', 'mask_20203 2 9 3839.png', 'mask_20203 2 9 3932.png', 'mask_20203 2 9 5012.png', 'mask_20203 2 9 5111.png', 'mask_20203 2 9 5553.png', 'mask_20203 2 9 5654.png', 'mask_20203 2 102 12.png', 'mask_20203 2 103 7 .png', 'mask_20203 2 103 50.png', 'mask_20203 2 104 33.png', 'mask_20203 2 105 21.png', 'mask_20203 2 106 27.png', 'mask_20203 2 107 29.png', 'mask_20203 2 10466 .png', 'mask_20203 2 104745.png', 'mask_20203 2 104947.png', 'mask_20203 2 134147.png', 'mask_20203 2 134242.png', 'mask_20203 2 134345.png', 'mask_20203 2 134524.png', 'mask_20203 2 13484 .png', 'mask_20203 2 134857.png', 'mask_20203 2 13505 .png', 'mask_20203 2 135058.png', 'mask_20203 2 135155.png', 'mask_20203 2 135252.png', 'mask_20203 2 14168 .png', 'mask_20203 3 6 5459.png', 'mask_20203 3 6 5552.png', 'mask_20203 3 6 5637.png', 'mask_20203 3 6 5732.png', 'mask_20203 3 6 5829.png', 'mask_20203 3 6 5930.png', 'mask_20203 3 7 0 19.png', 'mask_20203 3 7 1 10.png', 'mask_20203 3 7 1 52.png', 'mask_20203 3 7 2 34.png', 'mask_20203 3 7 3 18.png', 'mask_20203 3 7 4 4 .png', 'mask_20203 3 7 1911.png', 'mask_20203 3 7 2015.png', 'mask_20203 3 7 2058.png', 'mask_20203 3 7 226 .png', 'mask_20203 3 7 2254.png', 'mask_20203 3 7 2339.png', 'mask_20203 3 7 2444.png', 'mask_20203 3 7 2544.png', 'mask_20203 3 7 2635.png', 'mask_20203 3 7 2720.png', 'mask_20203 3 7 2838.png', 'mask_20203 3 7 2929.png', 'mask_20203 3 7 3943.png', 'mask_20203 3 7 4038.png', 'mask_20203 3 7 4135.png', 'mask_20203 3 7 4221.png', 'mask_20203 3 7 4324.png', 'mask_20203 3 7 4441.png', 'mask_20203 3 7 4523.png', 'mask_20203 3 7 4617.png', 'mask_20203 3 7 474 .png', 'mask_20203 3 7 4751.png', 'mask_20203 3 7 4842.png', 'mask_20203 3 7 4933.png', 'mask_20203 3 8 6 25.png', 'mask_20203 3 8 7 8 .png', 'mask_20203 3 8 8 2 .png', 'mask_20203 3 8 8 47.png', 'mask_20203 3 8 9 53.png', 'mask_20203 3 8 1040.png', 'mask_20203 3 8 1130.png', 'mask_20203 3 8 130 .png', 'mask_20203 3 8 1343.png', 'mask_20203 3 8 1510.png', 'mask_20203 3 8 1558.png', 'mask_20203 3 8 1656.png', 'mask_20203 3 8 195 .png', 'mask_20203 3 8 203 .png', 'mask_20203 3 8 2045.png', 'mask_20203 3 8 227 .png', 'mask_20203 3 8 230 .png', 'mask_20203 3 8 2352.png', 'mask_20203 3 8 2441.png', 'mask_20203 3 8 2530.png', 'mask_20203 3 8 2618.png', 'mask_20203 3 8 273 .png', 'mask_20203 3 8 2812.png', 'mask_20203 3 8 2857.png', 'mask_20203 3 8 2942.png', 'mask_20203 107 5947.png', 'mask_20203 108 1 7 .png', 'mask_20203 108 2 1 .png', 'mask_20203 108 3 12.png', 'mask_20203 108 7 42.png', 'mask_20203 108 9 15.png', 'mask_20203 108 1017.png', 'mask_20203 108 114 .png', 'mask_20203 108 129 .png', 'mask_20203 108 1257.png', 'mask_20203 108 1356.png', 'mask_20203 108 1440.png', 'mask_20203 108 1756.png', 'mask_20203 108 1839.png', 'mask_20203 108 1933.png', 'mask_20203 108 2027.png', 'mask_20203 108 2118.png', 'mask_20203 108 228 .png', 'mask_20203 108 2257.png', 'mask_20203 108 2346.png', 'mask_20203 108 2438.png', 'mask_20203 108 2523.png', 'mask_20203 108 2616.png', 'mask_20203 108 2720.png', 'mask_20203 108 3320.png', 'mask_20203 108 3413.png', 'mask_20203 108 359 .png', 'mask_20203 108 3558.png', 'mask_20203 108 3644.png', 'mask_20203 108 3815.png', 'mask_20203 108 394 .png', 'mask_20203 108 409 .png', 'mask_20203 108 417 .png', 'mask_20203 108 4153.png', 'mask_20203 108 4240.png', 'mask_20203 108 440 .png', 'mask_20203 109 1716.png', 'mask_20203 109 180 .png', 'mask_20203 109 1931.png', 'mask_20203 109 2019.png', 'mask_20203 109 4054.png', 'mask_20203 109 443 .png', 'mask_20203 109 4527.png', 'mask_20203 109 557 .png', 'mask_20203 109 5610.png', 'mask_20203 109 5720.png', 'mask_20203 109 5829.png', 'mask_20203 10109 19.png', 'mask_20203 10101040.png', 'mask_20203 10101141.png', 'mask_20203 10101251.png', 'mask_20203 10101345.png', 'mask_20203 10103341.png', 'mask_20203 10103513.png', 'mask_20203 1010368 .png', 'mask_20203 1010371 .png', 'mask_20203 10103750.png', 'mask_20203 10103837.png', 'mask_20203 10103932.png', 'mask_20203 10104023.png', 'mask_20203 10104114.png', 'mask_20203 1010423 .png', 'mask_20203 10104248.png', 'mask_20203 10104332.png', 'mask_20203 10105446.png', 'mask_20203 10105548.png', 'mask_20203 10105646.png', 'mask_20203 10105741.png', 'mask_20203 10110 49.png', 'mask_20203 10111 46.png', 'mask_20203 10112 43.png', 'mask_20203 10113 33.png', 'mask_20203 10114 53.png', 'mask_20203 10115 58.png', 'mask_20203 10116 57.png', 'mask_20203 10117 42.png', 'mask_20203 1011110 .png', 'mask_20203 1011123 .png', 'mask_20203 10111255.png', 'mask_20203 10111349.png', 'mask_20203 10111437.png', 'mask_20203 10111516.png', 'mask_20203 1011166 .png', 'mask_20203 10111653.png', 'mask_20203 10112356.png', 'mask_20203 10112455.png', 'mask_20203 10112648.png', 'mask_20203 10112826.png', 'mask_20203 18183 33.png', 'mask_20203 18184 29.png', 'mask_20203 18185 32.png', 'mask_20203 18186 21.png', 'mask_20203 18187 17.png', 'mask_20203 18188 9 .png', 'mask_20203 18189 4 .png', 'mask_20203 18189 53.png', 'mask_20203 18181044.png', 'mask_20203 18181139.png', 'mask_20203 1818152 .png', 'mask_20203 1818163 .png', 'mask_20203 18181842.png', 'mask_20203 18181930.png', 'mask_20203 18182028.png', 'mask_20203 18182156.png', 'mask_20203 1821281 .png', 'mask_20203 18212849.png', 'mask_20203 18212946.png', 'mask_20203 18213042.png', 'mask_20203 18213138.png', 'mask_20203 18213223.png', 'mask_20203 1821338 .png', 'mask_20203 18213352.png', 'mask_20203 1821365 .png', 'mask_20203 1821373 .png', 'mask_20203 18213818.png', 'mask_20203 18213936.png', 'mask_20203 18214028.png', 'mask_20203 18214114.png', 'mask_20203 1821421 .png', 'mask_20203 18214247.png', 'mask_20203 18214335.png', 'mask_20203 18214726.png', 'mask_20203 18214838.png', 'mask_20203 18214947.png', 'mask_20203 18215024.png', 'mask_20203 18215118.png', 'mask_20203 18215223.png', 'mask_20203 1915311 .png', 'mask_20203 19153211.png', 'mask_20203 19153314.png', 'mask_20203 19153359.png', 'mask_20203 19153451.png', 'mask_20203 19153652.png', 'mask_20203 19153754.png', 'mask_20203 19153910.png', 'mask_20203 19154011.png', 'mask_20203 19154110.png', 'mask_20203 1915451 .png', 'mask_20203 19155155.png', 'mask_20203 19155333.png', 'mask_20203 19155431.png', 'mask_20203 19155517.png', 'mask_20203 1915562 .png', 'mask_20203 19155653.png', 'mask_20203 19163 6 .png', 'mask_20203 19164 34.png', 'mask_20203 19165 31.png', 'mask_20203 19166 23.png', 'mask_20203 19167 10.png', 'mask_20200506080759.png', 'mask_20200506080935.png', 'mask_20200506081056.png', 'mask_20200506081207.png', 'mask_20200506081307.png', 'mask_20200506081410.png', 'mask_20200506081547.png', 'mask_20200506081725.png', 'mask_20200506082030.png', 'mask_20200506082137.png', 'mask_20200506092625.png', 'mask_20200506092724.png', 'mask_20200506092833.png', 'mask_20200506092945.png', 'mask_20200506093041.png', 'mask_20200506093140.png', 'mask_20200506123315.png', 'mask_20200506124733.png', 'mask_20200506124834.png', 'mask_20200506125045.png', 'mask_20200506125215.png', 'mask_20200506125314.png', 'mask_20200506125406.png', 'mask_20200506125503.png', 'mask_20200506125929.png', 'mask_20200506130036.png', 'mask_20200506130950.png', 'mask_20200506131553.png', 'mask_20200506131709.png', 'mask_20200506131814.png', 'mask_20200506132657.png', 'mask_20200506132821.png', 'mask_20200506132943.png', 'mask_20200506133036.png', 'mask_20200506133133.png', 'mask_20200506133226.png', 'mask_20200506133347.png', 'mask_20200506133448.png', 'mask_20200507065037.png', 'mask_20200507065139.png', 'mask_20200507065433.png', 'mask_20200507065541.png', 'mask_20200515193051.png', 'mask_20200515193223.png', 'mask_20200515193339.png', 'mask_20200515193428.png', 'mask_20200515193521.png', 'mask_20200515193625.png', 'mask_20200515193735.png', 'mask_20200515193828.png', 'mask_20200515193929.png', 'mask_20200515194040.png', 'mask_20200515194236.png', 'mask_20200518091146.png', 'mask_20200518091410.png', 'mask_20200518091516.png', 'mask_20200518091649.png', 'mask_20200518091754.png', 'mask_20200518091905.png', 'mask_20200518092006.png', 'mask_20200518092250.png', 'mask_20200518092348.png', 'mask_20200518102041.png', 'mask_20200518102146.png', 'mask_20200518102246.png', 'mask_20200518102349.png', 'mask_20200518102451.png', 'mask_20200518102601.png', 'mask_20200518124227.png', 'mask_20200518124329.png', 'mask_20200518124429.png', 'mask_20200518124524.png', 'mask_20200518124621.png', 'mask_20200518124710.png', 'mask_20200518125059.png', 'mask_20200518125158.png', 'mask_20200518125302.png', 'mask_20200518125418.png', 'mask_20200518125541.png', 'mask_20200518131232.png', 'mask_20200518131333.png', 'mask_20200518131449.png', 'mask_20200518133253.png', 'mask_20200518133405.png', 'mask_20200518133456.png', 'mask_20200518133555.png', 'mask_20200518133650.png', 'mask_20200519080822.png', 'mask_20200519080935.png', 'mask_20200519081035.png', 'mask_20200519081146.png', 'mask_20200519081249.png', 'mask_20200519081354.png', 'mask_20200519081455.png', 'mask_20200519081550.png', 'mask_20200519081712.png', 'mask_20200519081928.png', 'mask_20200519082451.png', 'mask_20200519082546.png', 'mask_20200519082700.png', 'mask_20200519082801.png', 'mask_20200519082857.png', 'mask_20200519082959.png', 'mask_20200519083059.png', 'mask_20200519083609.png', 'mask_20200519083651.png', 'mask_20200519083748.png', 'mask_20200525162008.png', 'mask_20200525162105.png', 'mask_20200525162207.png', 'mask_20200525162254.png', 'mask_20200525172526.png', 'mask_20200525172622.png', 'mask_20200525172706.png', 'mask_20200525172801.png', 'mask_20200525172901.png', 'mask_20200525172953.png', 'mask_20200525173035.png', 'mask_20200525173116.png', 'mask_20200525173154.png', 'mask_20200525173244.png', 'mask_20200525173432.png', 'mask_20200525173519.png', 'mask_20200525173601.png', 'mask_20200525173639.png', 'mask_20200525181202.png', 'mask_20200525181254.png', 'mask_20200525181346.png', 'mask_20200525181440.png', 'mask_20200525181531.png', 'mask_20200525181626.png', 'mask_20200525181734.png', 'mask_20200525181832.png', 'mask_20200525181932.png', 'mask_20200525182029.png', 'mask_20200525182314.png', 'mask_20200525182403.png', 'mask_20200525190642.png', 'mask_20200525190754.png', 'mask_20200525194103.png', 'mask_20200525194212.png', 'mask_20200525194319.png', 'mask_20200525194419.png', 'mask_20200525194529.png', 'mask_20200525194626.png', 'mask_20200525194716.png', 'mask_20200525194803.png', 'mask_20200525194856.png', 'mask_20200525194955.png', 'mask_20200525195043.png', 'mask_20200525195131.png', 'mask_20200525195214.png', 'mask_20200525195313.png', 'mask_20200525213112.png', 'mask_20200525213200.png', 'mask_20200525213243.png', 'mask_20200525213323.png', 'mask_20200525213403.png', 'mask_20200525213443.png', 'mask_20200525213536.png', 'mask_20200525213613.png', 'mask_20200525213647.png', 'mask_20200525213728.png', 'mask_20200525213805.png', 'mask_20200526173244.png', 'mask_20200526173335.png', 'mask_20200526173428.png', 'mask_20200526173533.png', 'mask_20200526173659.png', 'mask_20200526173803.png', 'mask_20200526173849.png', 'mask_20200526173931.png', 'mask_20200526174018.png', 'mask_20200526174112.png', 'mask_20200526174218.png', 'mask_20200526174328.png', 'mask_20200526174422.png', 'mask_20200526174545.png', 'mask_20200526192716.png', 'mask_20200526192802.png', 'mask_20200526192845.png', 'mask_20200526192932.png', 'mask_20200526193017.png', 'mask_20200526193105.png', 'mask_20200526193156.png', 'mask_20200526193240.png', 'mask_20200526193323.png', 'mask_20200526193405.png', 'mask_20200526193457.png', 'mask_20200526193540.png', 'mask_20200526194723.png', 'mask_20200526194809.png', 'mask_20200526195119.png', 'mask_20200526195238.png', 'mask_20200526195327.png', 'mask_20200526195408.png', 'mask_20200526195452.png', 'mask_20200526195532.png', 'mask_20200526195608.png', 'mask_20200528173659.png', 'mask_20200528173754.png', 'mask_20200528173901.png', 'mask_20200528174006.png', 'mask_20200528174057.png', 'mask_20200528174147.png', 'mask_20200528174243.png', 'mask_20200528174339.png', 'mask_20200528174601.png', 'mask_20200528174812.png', 'mask_20200528174905.png', 'mask_20200528175000.png', 'mask_20200528175205.png', 'mask_20200528175755.png', 'mask_20200528175927.png', 'mask_20200528180018.png', 'mask_20200528180114.png', 'mask_20200528192236.png', 'mask_20200528192322.png', 'mask_20200528192413.png', 'mask_20200528192502.png', 'mask_20200528192555.png', 'mask_20200528192642.png', 'mask_20200528192725.png', 'mask_20200528192807.png', 'mask_20200528193007.png', 'mask_20200528193212.png', 'mask_20200528193330.png', 'mask_20200528193419.png', 'mask_20200528193503.png', 'mask_20200528193552.png', 'mask_20200528193639.png', 'mask_20200528193721.png', 'mask_20200528193805.png', 'mask_20200528193856.png', 'mask_20200528193937.png', 'mask_20200528194030.png', 'mask_20200528203639.png', 'mask_20200528203726.png', 'mask_20200528203810.png', 'mask_20200528203920.png', 'mask_20200528204022.png', 'mask_20200528204120.png', 'mask_20200528204339.png', 'mask_20200528204428.png', 'mask_20200528204506.png', 'mask_20200528204553.png', 'mask_20200528204642.png', 'mask_20200528204729.png', 'mask_20200528204818.png', 'mask_20200528204912.png', 'mask_20200528205024.png', 'mask_20200528205827.png', 'mask_20200528205922.png', 'mask_20200528210016.png', 'mask_20200529163936.png', 'mask_20200529164025.png', 'mask_20200529171958.png', 'mask_20200529172052.png', 'mask_20200529172202.png', 'mask_20200529172313.png', 'mask_20200529172403.png', 'mask_20200529172458.png', 'mask_20200529172559.png', 'mask_20200529172649.png', 'mask_20200529181301.png', 'mask_20200529181342.png', 'mask_20200529181427.png', 'mask_20200529181657.png', 'mask_20200529181930.png', 'mask_20200529193138.png', 'mask_20200529193511.png', 'mask_20200529193622.png', 'mask_20200529193730.png', 'mask_20200529194038.png', 'mask_20200529194330.png', 'mask_20200529194427.png', 'mask_20200529194522.png', 'mask_20200529194654.png', 'mask_20200529194742.png', 'mask_20200529194852.png', 'mask_20200529194953.png', 'mask_20200529195051.png', 'mask_20200529195209.png', 'mask_20200529195439.png', 'mask_20200529195644.png', 'mask_20200529195735.png', 'mask_20200529195850.png', 'mask_20200529195956.png', 'mask_20200529200123.png', 'mask_20200529200241.png', 'mask_20200529203735.png', 'mask_20200529203819.png', 'mask_20200529203858.png', 'mask_20200529205032.png', 'mask_20200529205116.png', 'mask_20200529205215.png', 'mask_20200603131612.png', 'mask_20200603131710.png', 'mask_20200603131757.png', 'mask_20200603131858.png', 'mask_20200603131946.png', 'mask_20200603132037.png', 'mask_20200603132121.png', 'mask_20200603132233.png', 'mask_20200603132333.png', 'mask_20200603132453.png', 'mask_20200604083925.png', 'mask_20200604084035.png', 'mask_20200604090049.png', 'mask_20200604090342.png', 'mask_20200604090444.png', 'mask_20200604090554.png', 'mask_20200604090701.png', 'mask_20200604090807.png', 'mask_20200604090918.png', 'mask_20200604091250.png', 'mask_20200604091732.png', 'mask_20200604092706.png', 'mask_20200604092800.png', 'mask_20200604092855.png', 'mask_20200604124330.png', 'mask_20200604124650.png', 'mask_20200604124805.png', 'mask_20200604124855.png', 'mask_20200604124954.png', 'mask_20200604125041.png', 'mask_20200604125128.png', 'mask_20200604132455.png', 'mask_20200604132547.png', 'mask_20200604132656.png', 'mask_20200604132806.png', 'mask_20200604132905.png', 'mask_20200604133006.png', 'mask_20200604133127.png', 'mask_20200604133230.png', 'mask_20200604133337.png', 'mask_20200604133437.png', 'mask_20200604133542.png', 'mask_20200604133636.png', 'mask_20200604133737.png', 'mask_20200604133831.png', 'mask_20200604133924.png', 'mask_20200604134013.png', 'mask_20200604134109.png', 'mask_20200604140531.png', 'mask_20200604140638.png', 'mask_20200604140749.png', 'mask_20200604140857.png', 'mask_20200604141003.png', 'mask_20200604141108.png', 'mask_20200606074211.png', 'mask_20200606074258.png', 'mask_20200606074411.png', 'mask_20200606074546.png', 'mask_20200609213713.png', 'mask_20200609213758.png', 'mask_20200609213844.png', 'mask_20200609213935.png', 'mask_20200609214018.png', 'mask_20200609214105.png', 'mask_20200609214143.png', 'mask_20200609214224.png', 'mask_20200609214315.png', 'mask_20200825181503.png', 'mask_20200929112447.png', 'mask_20200929112928.png', 'mask_20200929113607.png', 'mask_20200929114259.png', 'mask_20200929114950.png', 'mask_20200929115539.png', 'mask_20200929120851.png', 'mask_20200929122256.png', 'mask_20200929122632.png', 'mask_20201010062038.png', 'mask_20201010063308.png', 'mask_20201010063535.png', 'mask_20201010064540.png', 'mask_20201010065119.png', 'mask_20201010070550.png', 'mask_20201010071012.png', 'mask_20201010071339.png', 'mask_20201010071613.png', 'mask_20201010072533.png', 'mask_20201010072821.png', 'mask_20201010073130.png', 'mask_20201010073422.png', 'mask_20201010073756.png', 'mask_20201010074122.png', 'mask_20201010074828.png', 'mask_20201010075125.png', 'mask_20201010080556.png', 'mask_20201010081002.png', 'mask_20201010081228.png', 'mask_20201010081531.png', 'mask_20201010081758.png', 'mask_20201010082024.png', 'mask_20201010082253.png', 'mask_20201010083933.png', 'mask_20201010084352.png', 'mask_20201010084644.png', 'mask_20201010085510.png', 'mask_20201010085755.png', 'mask_20201010090108.png', 'mask_20201010090403.png', 'mask_20201010090703.png', 'mask_20201010090953.png', 'mask_20201010091243.png', 'mask_20201010091646.png', 'mask_20201010092119.png', 'mask_20201010092408.png', 'mask_20201010093434.png', 'mask_20201010093734.png', 'mask_20201010094545.png', 'mask_20201010101643.png', 'mask_20201010102231.png', 'mask_20201010102501.png', 'mask_20201012065838.png', 'mask_20201012071615.png', 'mask_20201012090331.png', 'mask_20201013103450.png', 'mask_20201029115812.png', 'mask_20201029120120.png', 'mask_20201029120423.png', 'mask_20201029120714.png', 'mask_20201029120944.png', 'mask_20201029121207.png', 'mask_20201029121443.png', 'mask_20201029121709.png', 'mask_20201029121930.png', 'mask_20201029122311.png', 'mask_20201029123752.png', 'mask_20201029125216.png', 'mask_20201029125437.png', 'mask_20201029130223.png', 'mask_20201029130859.png', 'mask_20201029132301.png', 'mask_20201029135040.png', 'mask_20201030104917.png', 'mask_20201030105228.png', 'mask_20201030105524.png', 'mask_20201030124844.png', 'mask_20201030134514.png', 'mask_20201031073547.png', 'mask_20201031073810.png', 'mask_20201031074354.png', 'mask_20201031075351.png', 'mask_20201031075626.png', 'mask_20201031075951.png', 'mask_20201031080247.png', 'mask_20201031081202.png', 'mask_20201031082044.png', 'mask_20201031083118.png', 'mask_20201031083453.png', 'mask_20201031083740.png', 'mask_20201031084745.png', 'mask_20201031085205.png', 'mask_20201031085507.png', 'mask_20201031085900.png', 'mask_20201031090158.png', 'mask_20201031090549.png', 'mask_20201031090855.png', 'mask_20201031091127.png', 'mask_20201031091720.png', 'mask_20201031091941.png']\n",
            "------------------------------------------------------------------------------------------------------------------------------------------------------------\n",
            "DATAFRAME CON MASCHERE\n",
            "        ID            mask_filename  class\n",
            "0        3  mask_20201 319 5323.png    6.0\n",
            "1        4  mask_20201 3110125 .png    6.0\n",
            "2        5  mask_20201 31101327.png    6.0\n",
            "3        6  mask_20201 3110161 .png    6.0\n",
            "4        7  mask_20201 3110177 .png    6.0\n",
            "...    ...                      ...    ...\n",
            "1059  2023  mask_20201031090549.png    6.0\n",
            "1060  2024  mask_20201031090855.png    6.0\n",
            "1061  2025  mask_20201031091127.png    6.0\n",
            "1062  2026  mask_20201031091720.png    6.0\n",
            "1063  2027  mask_20201031091941.png    6.0\n",
            "\n",
            "[2120 rows x 3 columns]\n",
            "------------------------------------------------------------------------------------------------------------------------------------------------------------\n",
            "Lunghezza DataFrame complessivo : 2120\n",
            "Lunghezza Train : 1272\n",
            "Lunghezza Test : 424\n",
            "Lunghezza Validation : 424\n"
          ],
          "name": "stdout"
        }
      ]
    },
    {
      "cell_type": "markdown",
      "metadata": {
        "id": "bWeM8ci3VOJV"
      },
      "source": [
        "## TESTING MODEL"
      ]
    },
    {
      "cell_type": "code",
      "metadata": {
        "colab": {
          "base_uri": "https://localhost:8080/"
        },
        "id": "aEJip0fsUW0p",
        "outputId": "4200923e-81f4-47c0-c64f-e29acd3b632b"
      },
      "source": [
        "#Generators\n",
        "\n",
        "\n",
        "traingen = CustomDataGen(train, X_col={'PATH_IMG':'filename'}, y_col={'CLASSE': 'class'}, batch_size=bs, input_size=(270,470))   \n",
        "valgen = CustomDataGen(validation, X_col={'PATH_IMG':'filename'}, y_col={'CLASSE': 'class'}, batch_size=bs, input_size=(270,470))\n",
        "\n",
        "#history = model.fit(traingen,validation_data=valgen, epochs=num_epochs, callbacks = callbacks)\n",
        "\n",
        "print('------------------------------- FINE IMG - INIZIO MASK ------------------------------------------')\n",
        "\n",
        "traingen_mask = CustomDataGen(train_mask, X_col={'PATH_IMG':'mask_filename'}, y_col={'CLASSE': 'class'}, batch_size=bs, input_size=(270,470))   \n",
        "valgen_mask = CustomDataGen(validation_mask, X_col={'PATH_IMG':'mask_filename'}, y_col={'CLASSE': 'class'}, batch_size=bs, input_size=(270,470))\n",
        "#history_mask = model.fit(traingen_mask,validation_data=valgen_mask, epochs=num_epochs, callbacks = callbacks)\n",
        "\n",
        "#history = model.fit(aug.flow(training_generator, y_train, batch_size= bs),  steps_per_epoch=len(training_generator) / bs,\n",
        "#                     epochs=num_epochs, validation_data=(validation_generator, y_val), class_weight = weight, verbose=1, callbacks = callbacks)"
      ],
      "execution_count": 36,
      "outputs": [
        {
          "output_type": "stream",
          "text": [
            "------------------------------- FINE IMG - INIZIO MASK ------------------------------------------\n"
          ],
          "name": "stdout"
        }
      ]
    },
    {
      "cell_type": "markdown",
      "metadata": {
        "id": "xBGTOuc1VSqq"
      },
      "source": [
        "## PLOT "
      ]
    },
    {
      "cell_type": "code",
      "metadata": {
        "id": "bQzh_8drJ56m",
        "colab": {
          "base_uri": "https://localhost:8080/",
          "height": 562
        },
        "outputId": "30cbbd85-9685-431e-d523-5c7707fe65e1"
      },
      "source": [
        "'''PLOT CURVES'''\n",
        "\n",
        "path = path_drive+'ProgettoDL/'\n",
        "\n",
        "acc = history.history['accuracy']\n",
        "val_acc = history.history['val_accuracy']\n",
        "loss = history.history['loss']\n",
        "val_loss = history.history['val_loss']\n",
        "lista = [acc,val_acc,loss,val_loss]\n",
        "\n",
        "\n",
        "#print(corr(history.history['accuracy'], history_mask.history_mask['accuracy']))\n",
        "\n",
        "import csv\n",
        "\n",
        "with open(\"VGG16.csv\", \"w\", newline=\"\") as f:\n",
        "    writer = csv.writer(f)\n",
        "    writer.writerows(lista)\n",
        "     \n",
        "epochs = range(len(acc))\n",
        "\n",
        "plt.plot(epochs, acc, 'b', label='Training acc')\n",
        "plt.plot(epochs, val_acc, 'r', label='Validation acc')\n",
        "plt.title('Training and validation accuracy')\n",
        "plt.legend()\n",
        "plt.savefig(os.path.join(path+'weights/PlotAcc_{}_{}.pdf'.format(immgs,cnn))) \n",
        "\n",
        "plt.figure()\n",
        " \n",
        "plt.plot(epochs, loss, 'b', label='Training loss')\n",
        "plt.plot(epochs, val_loss, 'r', label='Validation loss')\n",
        "plt.title('Training and validation loss')\n",
        "plt.legend()\n",
        "#plt.savefig(os.path.join(path+'weights/PlotLoss_{}_{}.pdf'.format(immgs,cnn)))"
      ],
      "execution_count": 13,
      "outputs": [
        {
          "output_type": "execute_result",
          "data": {
            "text/plain": [
              "<matplotlib.legend.Legend at 0x7fa7ca397f50>"
            ]
          },
          "metadata": {
            "tags": []
          },
          "execution_count": 13
        },
        {
          "output_type": "display_data",
          "data": {
            "image/png": "[encoded data removed]",
            "text/plain": [
              "<Figure size 432x288 with 1 Axes>"
            ]
          },
          "metadata": {
            "tags": [],
            "needs_background": "light"
          }
        },
        {
          "output_type": "display_data",
          "data": {
            "image/png": "[encoded data removed]",
            "text/plain": [
              "<Figure size 432x288 with 1 Axes>"
            ]
          },
          "metadata": {
            "tags": [],
            "needs_background": "light"
          }
        }
      ]
    },
    {
      "cell_type": "code",
      "metadata": {
        "id": "3vxiQktOHom_"
      },
      "source": [
        ""
      ],
      "execution_count": null,
      "outputs": []
    },
    {
      "cell_type": "markdown",
      "metadata": {
        "id": "QjI6Y_nefFTj"
      },
      "source": [
        "### SAVE MODEL "
      ]
    },
    {
      "cell_type": "code",
      "metadata": {
        "id": "ApFaEaa6oPu0",
        "colab": {
          "base_uri": "https://localhost:8080/"
        },
        "outputId": "cd8d8827-acdd-41db-8970-ebb6aa8a9f28"
      },
      "source": [
        "#salvataggio modello pesi finali\n",
        "from tensorflow.keras.models import Sequential, save_model, load_model\n",
        "path = path_drive+'ProgettoDL/'\n",
        "model.save(os.path.join(path+'weights/model_{}_{}/Final'.format(immgs,cnn)))\n",
        "print(\"Saved model to disk\")"
      ],
      "execution_count": 69,
      "outputs": [
        {
          "output_type": "stream",
          "text": [
            "INFO:tensorflow:Assets written to: /content/drive/My Drive/ProgettoDL/weights/model_CALCIO_CROP_vgg16/Final/assets\n",
            "Saved model to disk\n"
          ],
          "name": "stdout"
        }
      ]
    },
    {
      "cell_type": "markdown",
      "metadata": {
        "id": "XefnmV_tsbOw"
      },
      "source": [
        "## Parte da Rivedere - Non ultimata "
      ]
    },
    {
      "cell_type": "code",
      "metadata": {
        "id": "3VDiBcm-XEOb"
      },
      "source": [
        "'''TEST'''\n",
        "import os\n",
        "from tensorflow.keras.models import Sequential, save_model, load_model\n",
        "path_drive = '/content/drive/My Drive/'\n",
        "path = path_drive+'ProgettoDL/'\n",
        "\n",
        "parte = 'CALCIO'\n",
        "tipo = 'CROP' #CROP, CROP_gray_ridge\n",
        "augment = True\n",
        "metaclassi = False\n",
        "cnn = \"vgg16\" #resnet50 \n",
        "\n",
        "#classi = ['1','2','3','3+','4']\n",
        "classi = ['1','2-','2','2+','3-','3','3+','4-','4','4+']\n",
        "\n",
        "immg_rows = 270 \n",
        "immg_cols = 470\n",
        "immgs = '{}_{}'.format(parte,tipo)\n",
        "\n",
        "path_model = os.path.join(path+'weights/model_{}_{}/Final'.format(immgs,cnn))\n",
        "\n",
        "\n",
        "#path_model = os.path.join(path + 'weights/model_{}_{}/best_weights.h5'.format(immgs,cnn))\n",
        "model = load_model(path_model)\n"
      ],
      "execution_count": 68,
      "outputs": []
    },
    {
      "cell_type": "code",
      "metadata": {
        "id": "qDb9juVJfFBc",
        "colab": {
          "base_uri": "https://localhost:8080/"
        },
        "outputId": "9128fea1-2783-44e1-af0a-ff13988b0d7c"
      },
      "source": [
        "from tensorflow.keras.models import Sequential, save_model, load_model\n",
        "from tensorflow.keras import Model\n",
        "\n",
        "\n",
        "test_array = []\n",
        "\n",
        "for index, row in test.iterrows():\n",
        "    class_ = int(row['class'])\n",
        "    test_array.append(class_)\n",
        "\n",
        "test_array = np.array(test_array)\n",
        "print(test_array)\n",
        "print(type(test_array))\n",
        "print(test_array.size)\n",
        "y_test = test_array.argmax(axis=0)\n",
        "y_pred = model.predict(traingen, steps=1)\n",
        "y_pred_mask = model.predict(traingen_mask, steps=1, verbose=0, workers=1, use_multiprocessing=True)\n",
        "\n",
        "\n",
        "print(y_pred)\n",
        "print(type(y_pred))\n",
        "print(y_pred.size)\n",
        "\n",
        "#y_pred = np.argmax(y_pred, axis=1)\n",
        "#print(y_pred)"
      ],
      "execution_count": 103,
      "outputs": [
        {
          "output_type": "stream",
          "text": [
            "[7 8 6 6 8 8 5 5 8 8 3 1 2 2 5 6 8 7 6 6 3 2 0 0 0 0 0 1 6 6 8 8 7 7 5 6 4\n",
            " 4 8 8 6 6 5 5 6 6 8 8 8 8 5 4 5 5 5 5 1 1 6 6 0 1 4 4 5 5 9 9 6 7 9 9 2 0\n",
            " 5 5 1 1 1 3 4 4 6 6 4 5 8 7 4 4 2 2 2 2 6 6 1 1 5 5 2 2 1 1 8 8 9 9 2 5 2\n",
            " 2 6 6 3 3 3 3 5 5 2 2 2 3 5 5 2 1 4 4 5 5 2 1 3 3 2 2 6 6 4 4 0 5 8 8 4 4\n",
            " 3 3 1 1 7 8 9 9 5 0 3 3 1 2 7 7 0 2 6 6 0 0 8 8 8 8 6 6 7 7 1 1 1 1 6 6 3\n",
            " 3 5 5 4 4 5 5 4 4 3 3 2 2 7 8 4 4 8 8 1 2 6 6 6 6 5 5 8 7 6 6 6 6 2 3 3 3\n",
            " 1 2 6 5 3 4 6 6 3 3 9 9 0 0 6 6 3 3 3 3 4 4 0 0 8 8 7 8 7 7 4 3 3 3 5 5 0\n",
            " 0 6 6 1 0 6 6 9 8 7 7 5 5 8 8 6 7 3 3 5 5 4 5 5 5 6 6 1 0 9 8 5 5 7 7 6 6\n",
            " 6 7 1 1 0 0 6 6 7 7 8 6 5 5 9 9 2 2 2 2 7 9 2 3 0 0 9 9 2 2 6 6 2 2 7 7 0\n",
            " 0 8 7 0 0 5 5 0 0 1 2 1 0 3 3 3 3 8 7 5 5 3 3 8 8 5 4 1 2 4 4 4 4 9 9 4 4\n",
            " 5 5 2 2 3 3 6 6 0 0 1 1 4 4 6 5 4 4 8 8 8 8 4 4 1 1 5 5 2 2 7 7 8 8 2 2 6\n",
            " 5 6 6 8 8 5 5 6 6 6 6 8 9 3 3 9 9]\n",
            "<class 'numpy.ndarray'>\n",
            "424\n",
            "[[3.77443410e-09 5.53008306e-07 2.70000333e-03 3.12459383e-06\n",
            "  2.92433164e-04 1.40578311e-04 1.71946045e-02 3.72605209e-05\n",
            "  9.73060429e-01 6.57099579e-03]\n",
            " [2.63406252e-09 3.54243213e-08 2.29910671e-04 2.97801603e-06\n",
            "  1.23278936e-03 3.76322751e-05 1.52126411e-02 2.85183160e-06\n",
            "  9.82273161e-01 1.00799813e-03]\n",
            " [5.89455429e-10 3.35927708e-09 4.07131575e-03 6.31150670e-07\n",
            "  1.48069928e-04 3.56098928e-04 9.65337921e-03 3.05769136e-05\n",
            "  9.85632539e-01 1.07411513e-04]\n",
            " [1.02048103e-09 1.00992859e-08 7.21285644e-04 8.25210975e-07\n",
            "  6.72541792e-03 7.09241896e-04 6.36589766e-01 5.00142414e-06\n",
            "  3.55234474e-01 1.39731947e-05]\n",
            " [2.98816349e-09 1.30879076e-08 2.52387254e-04 8.30926922e-07\n",
            "  1.68485858e-03 1.21848157e-03 9.77966547e-01 7.80702749e-07\n",
            "  1.88751724e-02 8.26191410e-07]\n",
            " [9.47143519e-09 3.18324396e-07 1.25152702e-02 1.80882107e-05\n",
            "  1.76512264e-02 9.64836590e-03 9.54757988e-01 4.59098487e-07\n",
            "  5.40672522e-03 1.48869810e-06]\n",
            " [7.84475276e-07 1.25427550e-06 9.27645043e-02 1.62418673e-05\n",
            "  2.59530842e-02 1.64821833e-01 7.05308795e-01 4.17218928e-07\n",
            "  1.11301644e-02 2.88268711e-06]\n",
            " [1.16519935e-07 1.36097640e-06 4.09530895e-03 9.61044407e-06\n",
            "  6.51381835e-02 1.22329649e-02 9.13783550e-01 1.43101389e-07\n",
            "  4.73742606e-03 1.27823853e-06]]\n",
            "<class 'numpy.ndarray'>\n",
            "80\n"
          ],
          "name": "stdout"
        }
      ]
    },
    {
      "cell_type": "code",
      "metadata": {
        "id": "eHSjdjJcgc1Y",
        "colab": {
          "base_uri": "https://localhost:8080/",
          "height": 637
        },
        "outputId": "fbc7f84a-7856-44cb-934b-1b6de736d0bd"
      },
      "source": [
        "'''METRICHE'''\n",
        "\n",
        "#to_categorical ---- >????\n",
        "#y_test = to_categorical(np.unique(y_test, return_inverse=True)[1])\n",
        "print(test_array)\n",
        "\n",
        "y_test_t = [0, 0, 1, 3,5,1,7,8,1]\n",
        "y_true_t = [0, 2, 1, 3,5,6,7,8,2,2]\n",
        "y_pred_t = [0, 1, 2, 3,5,6,7,8,1,1]\n",
        "#percentage of correctly classified samples\n",
        "a = accuracy_score(y_true_t, y_pred_t)\n",
        "print(\"test accuracy:\",)\n",
        "#a = accuracy_score(y_test, y_pred, normalize=False)\n",
        "print(\"test accuracy:\",a)\n",
        "print(\"precision:\", precision_score(y_test_t, y_pred_t , average=\"macro\"))\n",
        "print(\"recall:\", recall_score(y_test_t, y_pred_t , average=\"macro\"))\n",
        "print(\"f1_score:\", f1_score(y_test_t, y_pred_t , average=\"macro\"))\n",
        "\n",
        "print('classification report:')\n",
        "print(classification_report(y_test_t, y_pred_t))"
      ],
      "execution_count": 125,
      "outputs": [
        {
          "output_type": "stream",
          "text": [
            "[7 8 6 6 8 8 5 5 8 8 3 1 2 2 5 6 8 7 6 6 3 2 0 0 0 0 0 1 6 6 8 8 7 7 5 6 4\n",
            " 4 8 8 6 6 5 5 6 6 8 8 8 8 5 4 5 5 5 5 1 1 6 6 0 1 4 4 5 5 9 9 6 7 9 9 2 0\n",
            " 5 5 1 1 1 3 4 4 6 6 4 5 8 7 4 4 2 2 2 2 6 6 1 1 5 5 2 2 1 1 8 8 9 9 2 5 2\n",
            " 2 6 6 3 3 3 3 5 5 2 2 2 3 5 5 2 1 4 4 5 5 2 1 3 3 2 2 6 6 4 4 0 5 8 8 4 4\n",
            " 3 3 1 1 7 8 9 9 5 0 3 3 1 2 7 7 0 2 6 6 0 0 8 8 8 8 6 6 7 7 1 1 1 1 6 6 3\n",
            " 3 5 5 4 4 5 5 4 4 3 3 2 2 7 8 4 4 8 8 1 2 6 6 6 6 5 5 8 7 6 6 6 6 2 3 3 3\n",
            " 1 2 6 5 3 4 6 6 3 3 9 9 0 0 6 6 3 3 3 3 4 4 0 0 8 8 7 8 7 7 4 3 3 3 5 5 0\n",
            " 0 6 6 1 0 6 6 9 8 7 7 5 5 8 8 6 7 3 3 5 5 4 5 5 5 6 6 1 0 9 8 5 5 7 7 6 6\n",
            " 6 7 1 1 0 0 6 6 7 7 8 6 5 5 9 9 2 2 2 2 7 9 2 3 0 0 9 9 2 2 6 6 2 2 7 7 0\n",
            " 0 8 7 0 0 5 5 0 0 1 2 1 0 3 3 3 3 8 7 5 5 3 3 8 8 5 4 1 2 4 4 4 4 9 9 4 4\n",
            " 5 5 2 2 3 3 6 6 0 0 1 1 4 4 6 5 4 4 8 8 8 8 4 4 1 1 5 5 2 2 7 7 8 8 2 2 6\n",
            " 5 6 6 8 8 5 5 6 6 6 6 8 9 3 3 9 9]\n",
            "test accuracy:\n",
            "test accuracy: 0.6\n"
          ],
          "name": "stdout"
        },
        {
          "output_type": "error",
          "ename": "ValueError",
          "evalue": "ignored",
          "traceback": [
            "\u001b[0;31m---------------------------------------------------------------------------\u001b[0m",
            "\u001b[0;31mValueError\u001b[0m                                Traceback (most recent call last)",
            "\u001b[0;32m<ipython-input-125-8cc1f68bb2dc>\u001b[0m in \u001b[0;36m<module>\u001b[0;34m()\u001b[0m\n\u001b[1;32m     13\u001b[0m \u001b[0;31m#a = accuracy_score(y_test, y_pred, normalize=False)\u001b[0m\u001b[0;34m\u001b[0m\u001b[0;34m\u001b[0m\u001b[0;34m\u001b[0m\u001b[0m\n\u001b[1;32m     14\u001b[0m \u001b[0mprint\u001b[0m\u001b[0;34m(\u001b[0m\u001b[0;34m\"test accuracy:\"\u001b[0m\u001b[0;34m,\u001b[0m\u001b[0ma\u001b[0m\u001b[0;34m)\u001b[0m\u001b[0;34m\u001b[0m\u001b[0;34m\u001b[0m\u001b[0m\n\u001b[0;32m---> 15\u001b[0;31m \u001b[0mprint\u001b[0m\u001b[0;34m(\u001b[0m\u001b[0;34m\"precision:\"\u001b[0m\u001b[0;34m,\u001b[0m \u001b[0mprecision_score\u001b[0m\u001b[0;34m(\u001b[0m\u001b[0my_test_t\u001b[0m\u001b[0;34m,\u001b[0m \u001b[0my_pred_t\u001b[0m \u001b[0;34m,\u001b[0m \u001b[0maverage\u001b[0m\u001b[0;34m=\u001b[0m\u001b[0;34m\"macro\"\u001b[0m\u001b[0;34m)\u001b[0m\u001b[0;34m)\u001b[0m\u001b[0;34m\u001b[0m\u001b[0;34m\u001b[0m\u001b[0m\n\u001b[0m\u001b[1;32m     16\u001b[0m \u001b[0mprint\u001b[0m\u001b[0;34m(\u001b[0m\u001b[0;34m\"recall:\"\u001b[0m\u001b[0;34m,\u001b[0m \u001b[0mrecall_score\u001b[0m\u001b[0;34m(\u001b[0m\u001b[0my_test_t\u001b[0m\u001b[0;34m,\u001b[0m \u001b[0my_pred_t\u001b[0m \u001b[0;34m,\u001b[0m \u001b[0maverage\u001b[0m\u001b[0;34m=\u001b[0m\u001b[0;34m\"macro\"\u001b[0m\u001b[0;34m)\u001b[0m\u001b[0;34m)\u001b[0m\u001b[0;34m\u001b[0m\u001b[0;34m\u001b[0m\u001b[0m\n\u001b[1;32m     17\u001b[0m \u001b[0mprint\u001b[0m\u001b[0;34m(\u001b[0m\u001b[0;34m\"f1_score:\"\u001b[0m\u001b[0;34m,\u001b[0m \u001b[0mf1_score\u001b[0m\u001b[0;34m(\u001b[0m\u001b[0my_test_t\u001b[0m\u001b[0;34m,\u001b[0m \u001b[0my_pred_t\u001b[0m \u001b[0;34m,\u001b[0m \u001b[0maverage\u001b[0m\u001b[0;34m=\u001b[0m\u001b[0;34m\"macro\"\u001b[0m\u001b[0;34m)\u001b[0m\u001b[0;34m)\u001b[0m\u001b[0;34m\u001b[0m\u001b[0;34m\u001b[0m\u001b[0m\n",
            "\u001b[0;32m/usr/local/lib/python3.7/dist-packages/sklearn/metrics/_classification.py\u001b[0m in \u001b[0;36mprecision_score\u001b[0;34m(y_true, y_pred, labels, pos_label, average, sample_weight, zero_division)\u001b[0m\n\u001b[1;32m   1670\u001b[0m                                                  \u001b[0mwarn_for\u001b[0m\u001b[0;34m=\u001b[0m\u001b[0;34m(\u001b[0m\u001b[0;34m'precision'\u001b[0m\u001b[0;34m,\u001b[0m\u001b[0;34m)\u001b[0m\u001b[0;34m,\u001b[0m\u001b[0;34m\u001b[0m\u001b[0;34m\u001b[0m\u001b[0m\n\u001b[1;32m   1671\u001b[0m                                                  \u001b[0msample_weight\u001b[0m\u001b[0;34m=\u001b[0m\u001b[0msample_weight\u001b[0m\u001b[0;34m,\u001b[0m\u001b[0;34m\u001b[0m\u001b[0;34m\u001b[0m\u001b[0m\n\u001b[0;32m-> 1672\u001b[0;31m                                                  zero_division=zero_division)\n\u001b[0m\u001b[1;32m   1673\u001b[0m     \u001b[0;32mreturn\u001b[0m \u001b[0mp\u001b[0m\u001b[0;34m\u001b[0m\u001b[0;34m\u001b[0m\u001b[0m\n\u001b[1;32m   1674\u001b[0m \u001b[0;34m\u001b[0m\u001b[0m\n",
            "\u001b[0;32m/usr/local/lib/python3.7/dist-packages/sklearn/metrics/_classification.py\u001b[0m in \u001b[0;36mprecision_recall_fscore_support\u001b[0;34m(y_true, y_pred, beta, labels, pos_label, average, warn_for, sample_weight, zero_division)\u001b[0m\n\u001b[1;32m   1482\u001b[0m         \u001b[0;32mraise\u001b[0m \u001b[0mValueError\u001b[0m\u001b[0;34m(\u001b[0m\u001b[0;34m\"beta should be >=0 in the F-beta score\"\u001b[0m\u001b[0;34m)\u001b[0m\u001b[0;34m\u001b[0m\u001b[0;34m\u001b[0m\u001b[0m\n\u001b[1;32m   1483\u001b[0m     labels = _check_set_wise_labels(y_true, y_pred, average, labels,\n\u001b[0;32m-> 1484\u001b[0;31m                                     pos_label)\n\u001b[0m\u001b[1;32m   1485\u001b[0m \u001b[0;34m\u001b[0m\u001b[0m\n\u001b[1;32m   1486\u001b[0m     \u001b[0;31m# Calculate tp_sum, pred_sum, true_sum ###\u001b[0m\u001b[0;34m\u001b[0m\u001b[0;34m\u001b[0m\u001b[0;34m\u001b[0m\u001b[0m\n",
            "\u001b[0;32m/usr/local/lib/python3.7/dist-packages/sklearn/metrics/_classification.py\u001b[0m in \u001b[0;36m_check_set_wise_labels\u001b[0;34m(y_true, y_pred, average, labels, pos_label)\u001b[0m\n\u001b[1;32m   1299\u001b[0m                          str(average_options))\n\u001b[1;32m   1300\u001b[0m \u001b[0;34m\u001b[0m\u001b[0m\n\u001b[0;32m-> 1301\u001b[0;31m     \u001b[0my_type\u001b[0m\u001b[0;34m,\u001b[0m \u001b[0my_true\u001b[0m\u001b[0;34m,\u001b[0m \u001b[0my_pred\u001b[0m \u001b[0;34m=\u001b[0m \u001b[0m_check_targets\u001b[0m\u001b[0;34m(\u001b[0m\u001b[0my_true\u001b[0m\u001b[0;34m,\u001b[0m \u001b[0my_pred\u001b[0m\u001b[0;34m)\u001b[0m\u001b[0;34m\u001b[0m\u001b[0;34m\u001b[0m\u001b[0m\n\u001b[0m\u001b[1;32m   1302\u001b[0m     \u001b[0mpresent_labels\u001b[0m \u001b[0;34m=\u001b[0m \u001b[0munique_labels\u001b[0m\u001b[0;34m(\u001b[0m\u001b[0my_true\u001b[0m\u001b[0;34m,\u001b[0m \u001b[0my_pred\u001b[0m\u001b[0;34m)\u001b[0m\u001b[0;34m\u001b[0m\u001b[0;34m\u001b[0m\u001b[0m\n\u001b[1;32m   1303\u001b[0m     \u001b[0;32mif\u001b[0m \u001b[0maverage\u001b[0m \u001b[0;34m==\u001b[0m \u001b[0;34m'binary'\u001b[0m\u001b[0;34m:\u001b[0m\u001b[0;34m\u001b[0m\u001b[0;34m\u001b[0m\u001b[0m\n",
            "\u001b[0;32m/usr/local/lib/python3.7/dist-packages/sklearn/metrics/_classification.py\u001b[0m in \u001b[0;36m_check_targets\u001b[0;34m(y_true, y_pred)\u001b[0m\n\u001b[1;32m     78\u001b[0m     \u001b[0my_pred\u001b[0m \u001b[0;34m:\u001b[0m \u001b[0marray\u001b[0m \u001b[0;32mor\u001b[0m \u001b[0mindicator\u001b[0m \u001b[0mmatrix\u001b[0m\u001b[0;34m\u001b[0m\u001b[0;34m\u001b[0m\u001b[0m\n\u001b[1;32m     79\u001b[0m     \"\"\"\n\u001b[0;32m---> 80\u001b[0;31m     \u001b[0mcheck_consistent_length\u001b[0m\u001b[0;34m(\u001b[0m\u001b[0my_true\u001b[0m\u001b[0;34m,\u001b[0m \u001b[0my_pred\u001b[0m\u001b[0;34m)\u001b[0m\u001b[0;34m\u001b[0m\u001b[0;34m\u001b[0m\u001b[0m\n\u001b[0m\u001b[1;32m     81\u001b[0m     \u001b[0mtype_true\u001b[0m \u001b[0;34m=\u001b[0m \u001b[0mtype_of_target\u001b[0m\u001b[0;34m(\u001b[0m\u001b[0my_true\u001b[0m\u001b[0;34m)\u001b[0m\u001b[0;34m\u001b[0m\u001b[0;34m\u001b[0m\u001b[0m\n\u001b[1;32m     82\u001b[0m     \u001b[0mtype_pred\u001b[0m \u001b[0;34m=\u001b[0m \u001b[0mtype_of_target\u001b[0m\u001b[0;34m(\u001b[0m\u001b[0my_pred\u001b[0m\u001b[0;34m)\u001b[0m\u001b[0;34m\u001b[0m\u001b[0;34m\u001b[0m\u001b[0m\n",
            "\u001b[0;32m/usr/local/lib/python3.7/dist-packages/sklearn/utils/validation.py\u001b[0m in \u001b[0;36mcheck_consistent_length\u001b[0;34m(*arrays)\u001b[0m\n\u001b[1;32m    210\u001b[0m     \u001b[0;32mif\u001b[0m \u001b[0mlen\u001b[0m\u001b[0;34m(\u001b[0m\u001b[0muniques\u001b[0m\u001b[0;34m)\u001b[0m \u001b[0;34m>\u001b[0m \u001b[0;36m1\u001b[0m\u001b[0;34m:\u001b[0m\u001b[0;34m\u001b[0m\u001b[0;34m\u001b[0m\u001b[0m\n\u001b[1;32m    211\u001b[0m         raise ValueError(\"Found input variables with inconsistent numbers of\"\n\u001b[0;32m--> 212\u001b[0;31m                          \" samples: %r\" % [int(l) for l in lengths])\n\u001b[0m\u001b[1;32m    213\u001b[0m \u001b[0;34m\u001b[0m\u001b[0m\n\u001b[1;32m    214\u001b[0m \u001b[0;34m\u001b[0m\u001b[0m\n",
            "\u001b[0;31mValueError\u001b[0m: Found input variables with inconsistent numbers of samples: [9, 10]"
          ]
        }
      ]
    },
    {
      "cell_type": "code",
      "metadata": {
        "id": "LsYoP-3hgfY5",
        "colab": {
          "base_uri": "https://localhost:8080/",
          "height": 484
        },
        "outputId": "f0be00c8-94eb-458a-ee8a-768fa577d92f"
      },
      "source": [
        "#Confusion Matrix - CROP\n",
        "\n",
        "def plot_confusion_matrix(cm,\n",
        "                          target_names,\n",
        "                          title='Confusion matrix',\n",
        "                          cmap=None,\n",
        "                          normalize=True):\n",
        "\n",
        "    accuracy = np.trace(cm) / float(np.sum(cm))\n",
        "    misclass = 1 - accuracy\n",
        "\n",
        "    if cmap is None:\n",
        "        cmap = plt.get_cmap('Blues')\n",
        "\n",
        "    fig = plt.figure(figsize=(8, 6))\n",
        "    plt.imshow(cm, interpolation='nearest', cmap=cmap)\n",
        "    plt.title(title)\n",
        "    plt.colorbar()\n",
        "\n",
        "    if target_names is not None:\n",
        "        tick_marks = np.arange(len(target_names))\n",
        "        plt.xticks(tick_marks, target_names, rotation=45)\n",
        "        plt.yticks(tick_marks, target_names)\n",
        "\n",
        "    if normalize:\n",
        "        cm = cm.astype('float') / cm.sum(axis=1)[:, np.newaxis]\n",
        "\n",
        "\n",
        "    thresh = cm.max() / 1.5 if normalize else cm.max() / 2\n",
        "    for i in range (cm.shape[0]):\n",
        "      for j in range (cm.shape[1]):\n",
        "        if normalize:\n",
        "            plt.text(j, i, \"{:0.4f}\".format(cm[i, j]),\n",
        "                     horizontalalignment=\"center\",\n",
        "                     color=\"white\" if cm[i, j] > thresh else \"black\")\n",
        "        else:\n",
        "            plt.text(j, i, \"{:,}\".format(cm[i, j]),\n",
        "                     horizontalalignment=\"center\",\n",
        "                     color=\"white\" if cm[i, j] > thresh else \"black\")\n",
        "    axes = plt.gca()\n",
        "    bottom, top = axes.get_ylim()\n",
        "    axes.set_ylim(bottom + 0.5, top - 0.5)\n",
        "\n",
        "    plt.tight_layout()\n",
        "    plt.ylabel('True label')\n",
        "    plt.xlabel('Predicted label\\naccuracy={:0.4f}; misclass={:0.4f}'.format(accuracy, misclass))\n",
        "    plt.show()\n",
        "    \n",
        "    return fig\n",
        "\n",
        "\n",
        "import sklearn.metrics as metrics\n",
        "cm = metrics.confusion_matrix(y_true=y_test_t, y_pred=y_pred_t)\n",
        "fig = plot_confusion_matrix(cm,\n",
        "                      target_names = classi,\n",
        "                      normalize    = False,\n",
        "                      title        = \"Confusion Matrix\")\n",
        "plt.savefig(os.path.join(path+'weights/CM_{}_{}.pdf'.format(immgs,cnn))) "
      ],
      "execution_count": 124,
      "outputs": [
        {
          "output_type": "display_data",
          "data": {
            "image/png": "[encoded data removed]",
            "text/plain": [
              "<Figure size 576x432 with 2 Axes>"
            ]
          },
          "metadata": {
            "tags": [],
            "needs_background": "light"
          }
        },
        {
          "output_type": "display_data",
          "data": {
            "text/plain": [
              "<Figure size 432x288 with 0 Axes>"
            ]
          },
          "metadata": {
            "tags": []
          }
        }
      ]
    },
    {
      "cell_type": "code",
      "metadata": {
        "colab": {
          "base_uri": "https://localhost:8080/",
          "height": 388
        },
        "id": "FGayfntBvsMK",
        "outputId": "c855719c-b532-4841-c20d-658945ce6e11"
      },
      "source": [
        "#Confusion Matrix - MASK\n",
        "import sklearn.metrics as metrics\n",
        "cm = metrics.confusion_matrix(y_true=test_mask['class'], y_pred=y_pred_mask)\n",
        "fig = plot_confusion_matrix(cm,\n",
        "                      target_names = classi,\n",
        "                      normalize    = False,\n",
        "                      title        = \"Confusion Matrix\")\n",
        "plt.savefig(os.path.join(path+'weights/CM_{}_{}.pdf'.format(immgs,cnn))) "
      ],
      "execution_count": 121,
      "outputs": [
        {
          "output_type": "error",
          "ename": "ValueError",
          "evalue": "ignored",
          "traceback": [
            "\u001b[0;31m---------------------------------------------------------------------------\u001b[0m",
            "\u001b[0;31mValueError\u001b[0m                                Traceback (most recent call last)",
            "\u001b[0;32m<ipython-input-121-63b4229b9d5d>\u001b[0m in \u001b[0;36m<module>\u001b[0;34m()\u001b[0m\n\u001b[1;32m      1\u001b[0m \u001b[0;31m#Confusion Matrix - MASK\u001b[0m\u001b[0;34m\u001b[0m\u001b[0;34m\u001b[0m\u001b[0;34m\u001b[0m\u001b[0m\n\u001b[1;32m      2\u001b[0m \u001b[0;32mimport\u001b[0m \u001b[0msklearn\u001b[0m\u001b[0;34m.\u001b[0m\u001b[0mmetrics\u001b[0m \u001b[0;32mas\u001b[0m \u001b[0mmetrics\u001b[0m\u001b[0;34m\u001b[0m\u001b[0;34m\u001b[0m\u001b[0m\n\u001b[0;32m----> 3\u001b[0;31m \u001b[0mcm\u001b[0m \u001b[0;34m=\u001b[0m \u001b[0mmetrics\u001b[0m\u001b[0;34m.\u001b[0m\u001b[0mconfusion_matrix\u001b[0m\u001b[0;34m(\u001b[0m\u001b[0my_true\u001b[0m\u001b[0;34m=\u001b[0m\u001b[0mtest_mask\u001b[0m\u001b[0;34m[\u001b[0m\u001b[0;34m'class'\u001b[0m\u001b[0;34m]\u001b[0m\u001b[0;34m,\u001b[0m \u001b[0my_pred\u001b[0m\u001b[0;34m=\u001b[0m\u001b[0my_pred_mask\u001b[0m\u001b[0;34m)\u001b[0m\u001b[0;34m\u001b[0m\u001b[0;34m\u001b[0m\u001b[0m\n\u001b[0m\u001b[1;32m      4\u001b[0m fig = plot_confusion_matrix(cm,\n\u001b[1;32m      5\u001b[0m                       \u001b[0mtarget_names\u001b[0m \u001b[0;34m=\u001b[0m \u001b[0mclassi\u001b[0m\u001b[0;34m,\u001b[0m\u001b[0;34m\u001b[0m\u001b[0;34m\u001b[0m\u001b[0m\n",
            "\u001b[0;32m/usr/local/lib/python3.7/dist-packages/sklearn/metrics/_classification.py\u001b[0m in \u001b[0;36mconfusion_matrix\u001b[0;34m(y_true, y_pred, labels, sample_weight, normalize)\u001b[0m\n\u001b[1;32m    266\u001b[0m \u001b[0;34m\u001b[0m\u001b[0m\n\u001b[1;32m    267\u001b[0m     \"\"\"\n\u001b[0;32m--> 268\u001b[0;31m     \u001b[0my_type\u001b[0m\u001b[0;34m,\u001b[0m \u001b[0my_true\u001b[0m\u001b[0;34m,\u001b[0m \u001b[0my_pred\u001b[0m \u001b[0;34m=\u001b[0m \u001b[0m_check_targets\u001b[0m\u001b[0;34m(\u001b[0m\u001b[0my_true\u001b[0m\u001b[0;34m,\u001b[0m \u001b[0my_pred\u001b[0m\u001b[0;34m)\u001b[0m\u001b[0;34m\u001b[0m\u001b[0;34m\u001b[0m\u001b[0m\n\u001b[0m\u001b[1;32m    269\u001b[0m     \u001b[0;32mif\u001b[0m \u001b[0my_type\u001b[0m \u001b[0;32mnot\u001b[0m \u001b[0;32min\u001b[0m \u001b[0;34m(\u001b[0m\u001b[0;34m\"binary\"\u001b[0m\u001b[0;34m,\u001b[0m \u001b[0;34m\"multiclass\"\u001b[0m\u001b[0;34m)\u001b[0m\u001b[0;34m:\u001b[0m\u001b[0;34m\u001b[0m\u001b[0;34m\u001b[0m\u001b[0m\n\u001b[1;32m    270\u001b[0m         \u001b[0;32mraise\u001b[0m \u001b[0mValueError\u001b[0m\u001b[0;34m(\u001b[0m\u001b[0;34m\"%s is not supported\"\u001b[0m \u001b[0;34m%\u001b[0m \u001b[0my_type\u001b[0m\u001b[0;34m)\u001b[0m\u001b[0;34m\u001b[0m\u001b[0;34m\u001b[0m\u001b[0m\n",
            "\u001b[0;32m/usr/local/lib/python3.7/dist-packages/sklearn/metrics/_classification.py\u001b[0m in \u001b[0;36m_check_targets\u001b[0;34m(y_true, y_pred)\u001b[0m\n\u001b[1;32m     78\u001b[0m     \u001b[0my_pred\u001b[0m \u001b[0;34m:\u001b[0m \u001b[0marray\u001b[0m \u001b[0;32mor\u001b[0m \u001b[0mindicator\u001b[0m \u001b[0mmatrix\u001b[0m\u001b[0;34m\u001b[0m\u001b[0;34m\u001b[0m\u001b[0m\n\u001b[1;32m     79\u001b[0m     \"\"\"\n\u001b[0;32m---> 80\u001b[0;31m     \u001b[0mcheck_consistent_length\u001b[0m\u001b[0;34m(\u001b[0m\u001b[0my_true\u001b[0m\u001b[0;34m,\u001b[0m \u001b[0my_pred\u001b[0m\u001b[0;34m)\u001b[0m\u001b[0;34m\u001b[0m\u001b[0;34m\u001b[0m\u001b[0m\n\u001b[0m\u001b[1;32m     81\u001b[0m     \u001b[0mtype_true\u001b[0m \u001b[0;34m=\u001b[0m \u001b[0mtype_of_target\u001b[0m\u001b[0;34m(\u001b[0m\u001b[0my_true\u001b[0m\u001b[0;34m)\u001b[0m\u001b[0;34m\u001b[0m\u001b[0;34m\u001b[0m\u001b[0m\n\u001b[1;32m     82\u001b[0m     \u001b[0mtype_pred\u001b[0m \u001b[0;34m=\u001b[0m \u001b[0mtype_of_target\u001b[0m\u001b[0;34m(\u001b[0m\u001b[0my_pred\u001b[0m\u001b[0;34m)\u001b[0m\u001b[0;34m\u001b[0m\u001b[0;34m\u001b[0m\u001b[0m\n",
            "\u001b[0;32m/usr/local/lib/python3.7/dist-packages/sklearn/utils/validation.py\u001b[0m in \u001b[0;36mcheck_consistent_length\u001b[0;34m(*arrays)\u001b[0m\n\u001b[1;32m    210\u001b[0m     \u001b[0;32mif\u001b[0m \u001b[0mlen\u001b[0m\u001b[0;34m(\u001b[0m\u001b[0muniques\u001b[0m\u001b[0;34m)\u001b[0m \u001b[0;34m>\u001b[0m \u001b[0;36m1\u001b[0m\u001b[0;34m:\u001b[0m\u001b[0;34m\u001b[0m\u001b[0;34m\u001b[0m\u001b[0m\n\u001b[1;32m    211\u001b[0m         raise ValueError(\"Found input variables with inconsistent numbers of\"\n\u001b[0;32m--> 212\u001b[0;31m                          \" samples: %r\" % [int(l) for l in lengths])\n\u001b[0m\u001b[1;32m    213\u001b[0m \u001b[0;34m\u001b[0m\u001b[0m\n\u001b[1;32m    214\u001b[0m \u001b[0;34m\u001b[0m\u001b[0m\n",
            "\u001b[0;31mValueError\u001b[0m: Found input variables with inconsistent numbers of samples: [424, 8]"
          ]
        }
      ]
    }
  ]
}